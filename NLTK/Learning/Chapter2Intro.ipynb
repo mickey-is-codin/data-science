{
 "cells": [
  {
   "cell_type": "code",
   "execution_count": 54,
   "metadata": {},
   "outputs": [],
   "source": [
    "import nltk\n",
    "from nltk.corpus import gutenberg\n",
    "from nltk.corpus import webtext\n",
    "from nltk.corpus import nps_chat\n",
    "from nltk.corpus import brown\n",
    "from nltk.corpus import reuters\n",
    "from nltk.corpus import inaugural\n",
    "\n",
    "import matplotlib.pyplot as plt"
   ]
  },
  {
   "cell_type": "code",
   "execution_count": 2,
   "metadata": {},
   "outputs": [
    {
     "data": {
      "text/plain": [
       "['austen-emma.txt',\n",
       " 'austen-persuasion.txt',\n",
       " 'austen-sense.txt',\n",
       " 'bible-kjv.txt',\n",
       " 'blake-poems.txt',\n",
       " 'bryant-stories.txt',\n",
       " 'burgess-busterbrown.txt',\n",
       " 'carroll-alice.txt',\n",
       " 'chesterton-ball.txt',\n",
       " 'chesterton-brown.txt',\n",
       " 'chesterton-thursday.txt',\n",
       " 'edgeworth-parents.txt',\n",
       " 'melville-moby_dick.txt',\n",
       " 'milton-paradise.txt',\n",
       " 'shakespeare-caesar.txt',\n",
       " 'shakespeare-hamlet.txt',\n",
       " 'shakespeare-macbeth.txt',\n",
       " 'whitman-leaves.txt']"
      ]
     },
     "execution_count": 2,
     "metadata": {},
     "output_type": "execute_result"
    }
   ],
   "source": [
    "nltk.corpus.gutenberg.fileids()"
   ]
  },
  {
   "cell_type": "code",
   "execution_count": 5,
   "metadata": {},
   "outputs": [
    {
     "data": {
      "text/plain": [
       "192427"
      ]
     },
     "execution_count": 5,
     "metadata": {},
     "output_type": "execute_result"
    }
   ],
   "source": [
    "emma = nltk.corpus.gutenberg.words('austen-emma.txt')\n",
    "len(emma)"
   ]
  },
  {
   "cell_type": "markdown",
   "metadata": {},
   "source": [
    "<strong>Use the Text() typecast to turn a txt file into an NLTK Text object</strong>"
   ]
  },
  {
   "cell_type": "code",
   "execution_count": 7,
   "metadata": {},
   "outputs": [
    {
     "name": "stdout",
     "output_type": "stream",
     "text": [
      "Displaying 25 of 37 matches:\n",
      "er father , was sometimes taken by surprize at his being still able to pity ` \n",
      "hem do the other any good .\" \" You surprize me ! Emma must do Harriet good : a\n",
      "Knightley actually looked red with surprize and displeasure , as he stood up ,\n",
      "r . Elton , and found to his great surprize , that Mr . Elton was actually on \n",
      "d aid .\" Emma saw Mrs . Weston ' s surprize , and felt that it must be great ,\n",
      "father was quite taken up with the surprize of so sudden a journey , and his f\n",
      "y , in all the favouring warmth of surprize and conjecture . She was , moreove\n",
      "he appeared , to have her share of surprize , introduction , and pleasure . Th\n",
      "ir plans ; and it was an agreeable surprize to her , therefore , to perceive t\n",
      "talking aunt had taken me quite by surprize , it must have been the death of m\n",
      "f all the dialogue which ensued of surprize , and inquiry , and congratulation\n",
      " the present . They might chuse to surprize her .\" Mrs . Cole had many to agre\n",
      "the mode of it , the mystery , the surprize , is more like a young woman ' s s\n",
      " to her song took her agreeably by surprize -- a second , slightly but correct\n",
      "\" \" Oh ! no -- there is nothing to surprize one at all .-- A pretty fortune ; \n",
      "t to be considered . Emma ' s only surprize was that Jane Fairfax should accep\n",
      "of your admiration may take you by surprize some day or other .\" Mr . Knightle\n",
      "ation for her will ever take me by surprize .-- I never had a thought of her i\n",
      " expected by the best judges , for surprize -- but there was great joy . Mr . \n",
      " sound of at first , without great surprize . \" So unreasonably early !\" she w\n",
      "d Frank Churchill , with a look of surprize and displeasure .-- \" That is easy\n",
      "; and Emma could imagine with what surprize and mortification she must be retu\n",
      "tled that Jane should go . Quite a surprize to me ! I had not the least idea !\n",
      " . It is impossible to express our surprize . He came to speak to his father o\n",
      "g engaged !\" Emma even jumped with surprize ;-- and , horror - struck , exclai\n"
     ]
    }
   ],
   "source": [
    "emma = nltk.Text(emma)\n",
    "emma.concordance(\"surprize\")"
   ]
  },
  {
   "cell_type": "code",
   "execution_count": 12,
   "metadata": {},
   "outputs": [
    {
     "name": "stdout",
     "output_type": "stream",
     "text": [
      "5 25 26 austen-emma.txt\n",
      "5 26 17 austen-persuasion.txt\n",
      "5 28 22 austen-sense.txt\n",
      "4 34 79 bible-kjv.txt\n",
      "5 19 5 blake-poems.txt\n",
      "4 19 14 bryant-stories.txt\n",
      "4 18 12 burgess-busterbrown.txt\n",
      "4 20 13 carroll-alice.txt\n",
      "5 20 12 chesterton-ball.txt\n",
      "5 23 11 chesterton-brown.txt\n",
      "5 18 11 chesterton-thursday.txt\n",
      "4 21 25 edgeworth-parents.txt\n",
      "5 26 15 melville-moby_dick.txt\n",
      "5 52 11 milton-paradise.txt\n",
      "4 12 9 shakespeare-caesar.txt\n",
      "4 12 8 shakespeare-hamlet.txt\n",
      "4 12 7 shakespeare-macbeth.txt\n",
      "5 36 12 whitman-leaves.txt\n"
     ]
    }
   ],
   "source": [
    "for fileid in gutenberg.fileids():\n",
    "    num_chars = len(gutenberg.raw(fileid))\n",
    "    num_words = len(gutenberg.words(fileid))\n",
    "    num_sents = len(gutenberg.sents(fileid))\n",
    "    num_vocab = len(set(w.lower() for w in gutenberg.words(fileid)))\n",
    "    \n",
    "    print(\n",
    "        round(num_chars / num_words), \n",
    "        round(num_words / num_sents),\n",
    "        round(num_words / num_vocab),\n",
    "        fileid\n",
    "    )\n",
    "    \n",
    "    # Average characters per word \n",
    "    # Average words per sentence\n",
    "    # Lexical diversity\n",
    "    # Title of the work"
   ]
  },
  {
   "cell_type": "code",
   "execution_count": 20,
   "metadata": {},
   "outputs": [
    {
     "name": "stdout",
     "output_type": "stream",
     "text": [
      "['Double', ',', 'double', ',', 'toile', 'and', 'trouble', ';', 'Fire', 'burne', ',', 'and', 'Cauldron', 'bubble']\n",
      "\n",
      "Longest sentence in MacBeth:\n",
      "['Doubtfull', 'it', 'stood', ',', 'As', 'two', 'spent', 'Swimmers', ',', 'that', 'doe', 'cling', 'together', ',', 'And', 'choake', 'their', 'Art', ':', 'The', 'mercilesse', 'Macdonwald', '(', 'Worthie', 'to', 'be', 'a', 'Rebell', ',', 'for', 'to', 'that', 'The', 'multiplying', 'Villanies', 'of', 'Nature', 'Doe', 'swarme', 'vpon', 'him', ')', 'from', 'the', 'Westerne', 'Isles', 'Of', 'Kernes', 'and', 'Gallowgrosses', 'is', 'supply', \"'\", 'd', ',', 'And', 'Fortune', 'on', 'his', 'damned', 'Quarry', 'smiling', ',', 'Shew', \"'\", 'd', 'like', 'a', 'Rebells', 'Whore', ':', 'but', 'all', \"'\", 's', 'too', 'weake', ':', 'For', 'braue', 'Macbeth', '(', 'well', 'hee', 'deserues', 'that', 'Name', ')', 'Disdayning', 'Fortune', ',', 'with', 'his', 'brandisht', 'Steele', ',', 'Which', 'smoak', \"'\", 'd', 'with', 'bloody', 'execution', '(', 'Like', 'Valours', 'Minion', ')', 'caru', \"'\", 'd', 'out', 'his', 'passage', ',', 'Till', 'hee', 'fac', \"'\", 'd', 'the', 'Slaue', ':', 'Which', 'neu', \"'\", 'r', 'shooke', 'hands', ',', 'nor', 'bad', 'farwell', 'to', 'him', ',', 'Till', 'he', 'vnseam', \"'\", 'd', 'him', 'from', 'the', 'Naue', 'toth', \"'\", 'Chops', ',', 'And', 'fix', \"'\", 'd', 'his', 'Head', 'vpon', 'our', 'Battlements']\n"
     ]
    }
   ],
   "source": [
    "macbeth_sentences = gutenberg.sents('shakespeare-macbeth.txt')\n",
    "print(macbeth_sentences[1116])\n",
    "\n",
    "longest_sent_len = max(len(s) for s in macbeth_sentences)\n",
    "longest_sent_list = [s for s in macbeth_sentences if len(s) == longest_sent_len]\n",
    "\n",
    "print(\"\\nLongest sentence in MacBeth:\")\n",
    "print(longest_sent_list[0])"
   ]
  },
  {
   "cell_type": "markdown",
   "metadata": {},
   "source": [
    "<h3>Informal Text</h3>"
   ]
  },
  {
   "cell_type": "code",
   "execution_count": 22,
   "metadata": {},
   "outputs": [
    {
     "name": "stdout",
     "output_type": "stream",
     "text": [
      "firefox.txt Cookie Manager: \"Don't allow sites that set removed cookies to se ...\n",
      "grail.txt SCENE 1: [wind] [clop clop clop] \n",
      "KING ARTHUR: Whoa there!  [clop ...\n",
      "overheard.txt White guy: So, do you have any plans for this evening?\n",
      "Asian girl ...\n",
      "pirates.txt PIRATES OF THE CARRIBEAN: DEAD MAN'S CHEST, by Ted Elliott & Terr ...\n",
      "singles.txt 25 SEXY MALE, seeks attrac older single lady, for discreet encoun ...\n",
      "wine.txt Lovely delicate, fragrant Rhone wine. Polished leather and strawb ...\n"
     ]
    }
   ],
   "source": [
    "for fileid in webtext.fileids():\n",
    "    print(fileid, webtext.raw(fileid)[:65], '...')"
   ]
  },
  {
   "cell_type": "code",
   "execution_count": 29,
   "metadata": {},
   "outputs": [
    {
     "name": "stdout",
     "output_type": "stream",
     "text": [
      "10-19-20s_706posts.xml <!-- edited with XMLSpy v2007 sp1 (http://www.alto ...\n",
      "10-19-30s_705posts.xml <?xml version=\"1.0\" encoding=\"UTF-8\"?>\r\n",
      "<!-- edite ...\n",
      "10-19-40s_686posts.xml <?xml version=\"1.0\" encoding=\"UTF-8\"?>\r\n",
      "<!-- edite ...\n",
      "10-19-adults_706posts.xml <!-- edited with XMLSpy v2007 sp1 (http://www.alto ...\n",
      "10-24-40s_706posts.xml <!-- edited with XMLSpy v2007 sp1 (http://www.alto ...\n",
      "10-26-teens_706posts.xml <!-- edited with XMLSpy v2007 sp1 (http://www.alto ...\n",
      "11-06-adults_706posts.xml <!-- edited with XMLSpy v2007 sp1 (http://www.alto ...\n",
      "11-08-20s_705posts.xml <?xml version=\"1.0\" encoding=\"UTF-8\"?>\r\n",
      "<!-- edite ...\n",
      "11-08-40s_706posts.xml <!-- edited with XMLSpy v2007 sp1 (http://www.alto ...\n",
      "11-08-adults_705posts.xml <?xml version=\"1.0\" encoding=\"UTF-8\"?>\r\n",
      "<!-- edite ...\n",
      "11-08-teens_706posts.xml <?xml version=\"1.0\" encoding=\"UTF-8\"?>\r\n",
      "<!-- edite ...\n",
      "11-09-20s_706posts.xml <!-- edited with XMLSpy v2007 sp1 (http://www.alto ...\n",
      "11-09-40s_706posts.xml <!-- edited with XMLSpy v2007 sp1 (http://www.alto ...\n",
      "11-09-adults_706posts.xml <!-- edited with XMLSpy v2007 sp1 (http://www.alto ...\n",
      "11-09-teens_706posts.xml <!-- edited with XMLSpy v2007 sp1 (http://www.alto ...\n"
     ]
    }
   ],
   "source": [
    "for fileid in nps_chat.fileids():\n",
    "    print(fileid, nps_chat.raw(fileid)[:50], '...')"
   ]
  },
  {
   "cell_type": "code",
   "execution_count": 31,
   "metadata": {},
   "outputs": [
    {
     "name": "stdout",
     "output_type": "stream",
     "text": [
      "['now', 'im', 'left', 'with', 'this', 'gay', 'name']\n",
      "[':P']\n",
      "['PART']\n",
      "['hey', 'everyone']\n",
      "['ah', 'well']\n",
      "['NICK', ':', 'U7']\n",
      "['U7', 'is', 'a', 'gay', 'name', '.']\n",
      "['.', 'ACTION', 'gives', 'U121', 'a', 'golf', 'clap', '.']\n",
      "[':)']\n",
      "['JOIN']\n",
      "['hi', 'U59']\n",
      "['26', '/', 'm', '/', 'ky', 'women', 'that', 'are', 'nice', 'please', 'pm', 'me']\n",
      "['JOIN']\n",
      "['PART']\n",
      "['there', 'ya', 'go', 'U7']\n",
      "['do', \"n't\", 'golf', 'clap', 'me', '.']\n",
      "['fuck', 'you', 'U121', ':@']\n",
      "['whats', 'everyone', 'up', 'to', '?']\n",
      "['PART']\n",
      "['PART']\n",
      "['i', \"'ll\", 'thunder', 'clap', 'your', 'ass', '.']\n",
      "['PART']\n",
      "['and', 'i', 'dont', 'even', 'know', 'what', 'that', 'means', '.']\n",
      "['that', 'sounds', 'painful']\n",
      "['any', 'ladis', 'wanna', 'chat', '?', '29', 'm']\n",
      "['26', '/', 'm']\n",
      "['JOIN']\n",
      "['my', 'cousin', 'drew', 'a', 'messed', 'up', 'pic', 'on', 'my', 'cast']\n",
      "['PART']\n",
      "['24', '/', 'm']\n",
      "['boo', '.']\n",
      "['26', '/', 'm', 'and', 'sexy']\n",
      "['lol', 'U115']\n",
      "['boo', '.']\n",
      "['JOIN']\n",
      "['PART']\n",
      "['he', 'drew', 'a', 'girl', 'with', 'legs', 'spread']\n",
      "['boo', '.']\n",
      "['hope', 'he', 'didnt', 'draw', 'a', 'penis']\n",
      "['PART']\n",
      "['ewwwww', 'lol']\n",
      "['&', 'a', 'head', 'between', 'her', 'legs']\n",
      "['JOIN']\n",
      "['JOIN']\n",
      "['sounds', 'good', 'to', 'me', '.']\n",
      "['r', 'u', 'serious']\n",
      "['JOIN']\n",
      "['PART']\n",
      "['I', \"'ll\", 'take', 'one', ',', 'please', '.']\n",
      "['&', 'i', 'have', 'to', 'go', 'to', 'the', 'docs', 'tomorrow']\n"
     ]
    }
   ],
   "source": [
    "for post in nps_chat.posts()[0:50]:\n",
    "    print(post)"
   ]
  },
  {
   "cell_type": "markdown",
   "metadata": {},
   "source": [
    "<h3>Brown Corpus</h3>"
   ]
  },
  {
   "cell_type": "code",
   "execution_count": 33,
   "metadata": {},
   "outputs": [
    {
     "data": {
      "text/plain": [
       "['adventure',\n",
       " 'belles_lettres',\n",
       " 'editorial',\n",
       " 'fiction',\n",
       " 'government',\n",
       " 'hobbies',\n",
       " 'humor',\n",
       " 'learned',\n",
       " 'lore',\n",
       " 'mystery',\n",
       " 'news',\n",
       " 'religion',\n",
       " 'reviews',\n",
       " 'romance',\n",
       " 'science_fiction']"
      ]
     },
     "execution_count": 33,
     "metadata": {},
     "output_type": "execute_result"
    }
   ],
   "source": [
    "brown.categories()"
   ]
  },
  {
   "cell_type": "markdown",
   "metadata": {},
   "source": [
    "<p>Finding the amount of occurrences for a list of words within a text</p>"
   ]
  },
  {
   "cell_type": "code",
   "execution_count": 37,
   "metadata": {},
   "outputs": [
    {
     "name": "stdout",
     "output_type": "stream",
     "text": [
      "can: 94 \n",
      "could: 87 \n",
      "may: 93 \n",
      "might: 38 \n",
      "must: 53 \n",
      "will: 389 \n"
     ]
    }
   ],
   "source": [
    "news_text = brown.words(categories='news')\n",
    "fdist = nltk.FreqDist(w.lower() for w in news_text)\n",
    "modals = ['can', 'could', 'may', 'might', 'must', 'will']\n",
    "for m in modals:\n",
    "    print(m + ':', fdist[m], end=' \\n')"
   ]
  },
  {
   "cell_type": "code",
   "execution_count": 38,
   "metadata": {},
   "outputs": [
    {
     "name": "stdout",
     "output_type": "stream",
     "text": [
      "                  can could   may might  must  will \n",
      "           news    93    86    66    38    50   389 \n",
      "       religion    82    59    78    12    54    71 \n",
      "        hobbies   268    58   131    22    83   264 \n",
      "science_fiction    16    49     4    12     8    16 \n",
      "        romance    74   193    11    51    45    43 \n",
      "          humor    16    30     8     8     9    13 \n"
     ]
    }
   ],
   "source": [
    "cfd = nltk.ConditionalFreqDist(\n",
    "    (genre, word)\n",
    "    for genre in brown.categories()\n",
    "    for word in brown.words(categories=genre)\n",
    ")\n",
    "\n",
    "genres = [\n",
    "    'news',\n",
    "    'religion',\n",
    "    'hobbies',\n",
    "    'science_fiction',\n",
    "    'romance',\n",
    "    'humor'\n",
    "]\n",
    "\n",
    "modals = [\n",
    "    'can',\n",
    "    'could',\n",
    "    'may',\n",
    "    'might',\n",
    "    'must',\n",
    "    'will'\n",
    "]\n",
    "\n",
    "cfd.tabulate(conditions=genres, samples=modals)"
   ]
  },
  {
   "cell_type": "markdown",
   "metadata": {},
   "source": [
    "<h3>Reuters Corpus</h3>"
   ]
  },
  {
   "cell_type": "code",
   "execution_count": 43,
   "metadata": {},
   "outputs": [
    {
     "name": "stdout",
     "output_type": "stream",
     "text": [
      "test/14826\n",
      "test/14828\n",
      "test/14829\n",
      "test/14832\n",
      "test/14833\n",
      "test/14839\n",
      "test/14840\n",
      "test/14841\n",
      "test/14842\n",
      "test/14843\n",
      "acq\n",
      "alum\n",
      "barley\n",
      "bop\n",
      "carcass\n",
      "castor-oil\n",
      "cocoa\n",
      "coconut\n",
      "coconut-oil\n",
      "coffee\n",
      "copper\n",
      "copra-cake\n",
      "corn\n",
      "cotton\n",
      "cotton-oil\n",
      "cpi\n",
      "cpu\n",
      "crude\n",
      "dfl\n",
      "dlr\n",
      "dmk\n",
      "earn\n",
      "fuel\n",
      "gas\n",
      "gnp\n",
      "gold\n",
      "grain\n",
      "groundnut\n",
      "groundnut-oil\n",
      "heat\n",
      "hog\n",
      "housing\n",
      "income\n",
      "instal-debt\n",
      "interest\n",
      "ipi\n",
      "iron-steel\n",
      "jet\n",
      "jobs\n",
      "l-cattle\n",
      "lead\n",
      "lei\n",
      "lin-oil\n",
      "livestock\n",
      "lumber\n",
      "meal-feed\n",
      "money-fx\n",
      "money-supply\n",
      "naphtha\n",
      "nat-gas\n",
      "nickel\n",
      "nkr\n",
      "nzdlr\n",
      "oat\n",
      "oilseed\n",
      "orange\n",
      "palladium\n",
      "palm-oil\n",
      "palmkernel\n",
      "pet-chem\n",
      "platinum\n",
      "potato\n",
      "propane\n",
      "rand\n",
      "rape-oil\n",
      "rapeseed\n",
      "reserves\n",
      "retail\n",
      "rice\n",
      "rubber\n",
      "rye\n",
      "ship\n",
      "silver\n",
      "sorghum\n",
      "soy-meal\n",
      "soy-oil\n",
      "soybean\n",
      "strategic-metal\n",
      "sugar\n",
      "sun-meal\n",
      "sun-oil\n",
      "sunseed\n",
      "tea\n",
      "tin\n",
      "trade\n",
      "veg-oil\n",
      "wheat\n",
      "wpi\n",
      "yen\n",
      "zinc\n"
     ]
    }
   ],
   "source": [
    "for fileid in reuters.fileids()[0:10]:\n",
    "    print(fileid)\n",
    "    \n",
    "for category in reuters.categories():\n",
    "    print(category)"
   ]
  },
  {
   "cell_type": "code",
   "execution_count": 49,
   "metadata": {},
   "outputs": [
    {
     "name": "stdout",
     "output_type": "stream",
     "text": [
      "['barley', 'corn', 'grain', 'wheat']\n",
      "['barley', 'corn', 'grain', 'money-fx', 'wheat']\n",
      "['test/15618', 'test/15649', 'test/15676', 'test/15728', 'test/15871', 'test/15875', 'test/15952', 'test/17767', 'test/17769', 'test/18024', 'test/18263', 'test/18908', 'test/19275', 'test/19668', 'training/10175', 'training/1067', 'training/11208', 'training/11316', 'training/11885', 'training/12428', 'training/13099', 'training/13744', 'training/13795', 'training/13852', 'training/13856', 'training/1652', 'training/1970', 'training/2044', 'training/2171', 'training/2172', 'training/2191', 'training/2217', 'training/2232', 'training/3132', 'training/3324', 'training/395', 'training/4280', 'training/4296', 'training/5', 'training/501', 'training/5467', 'training/5610', 'training/5640', 'training/6626', 'training/7205', 'training/7579', 'training/8213', 'training/8257', 'training/8759', 'training/9865', 'training/9958']\n"
     ]
    }
   ],
   "source": [
    "print(reuters.categories('training/9865'))\n",
    "\n",
    "print(reuters.categories(['training/9865', 'training/9880']))\n",
    "\n",
    "print(reuters.fileids('barley'))"
   ]
  },
  {
   "cell_type": "markdown",
   "metadata": {},
   "source": [
    "<h3>Inaugural Addresses Corpus</h3>"
   ]
  },
  {
   "cell_type": "code",
   "execution_count": 51,
   "metadata": {},
   "outputs": [
    {
     "name": "stdout",
     "output_type": "stream",
     "text": [
      "1789-Washington.txt\n",
      "1793-Washington.txt\n",
      "1797-Adams.txt\n",
      "1801-Jefferson.txt\n",
      "1805-Jefferson.txt\n",
      "1809-Madison.txt\n",
      "1813-Madison.txt\n",
      "1817-Monroe.txt\n",
      "1821-Monroe.txt\n",
      "1825-Adams.txt\n"
     ]
    }
   ],
   "source": [
    "for fileid in inaugural.fileids()[0:10]:\n",
    "    print(fileid)"
   ]
  },
  {
   "cell_type": "code",
   "execution_count": 56,
   "metadata": {},
   "outputs": [
    {
     "data": {
      "image/png": "[encoded data removed]",
      "text/plain": [
       "<Figure size 1080x720 with 1 Axes>"
      ]
     },
     "metadata": {
      "needs_background": "light"
     },
     "output_type": "display_data"
    }
   ],
   "source": [
    "cfd = nltk.ConditionalFreqDist(\n",
    " (target, fileid[:4])\n",
    "    for fileid in inaugural.fileids()\n",
    "    for word in inaugural.words(fileid)\n",
    "    for target in ['america', 'citizen']\n",
    "    if word.lower().startswith(target)\n",
    ")\n",
    "\n",
    "plt.figure(figsize=(15,10))\n",
    "cfd.plot()\n",
    "plt.show()"
   ]
  },
  {
   "cell_type": "code",
   "execution_count": null,
   "metadata": {},
   "outputs": [],
   "source": []
  }
 ],
 "metadata": {
  "kernelspec": {
   "display_name": "Python 3",
   "language": "python",
   "name": "python3"
  },
  "language_info": {
   "codemirror_mode": {
    "name": "ipython",
    "version": 3
   },
   "file_extension": ".py",
   "mimetype": "text/x-python",
   "name": "python",
   "nbconvert_exporter": "python",
   "pygments_lexer": "ipython3",
   "version": "3.7.1"
  }
 },
 "nbformat": 4,
 "nbformat_minor": 2
}
