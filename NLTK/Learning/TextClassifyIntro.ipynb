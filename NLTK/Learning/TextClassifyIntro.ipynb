{
 "cells": [
  {
   "cell_type": "code",
   "execution_count": 16,
   "metadata": {},
   "outputs": [],
   "source": [
    "import matplotlib.pyplot as plt\n",
    "\n",
    "import random\n",
    "\n",
    "import nltk\n",
    "from nltk.corpus import names\n",
    "from nltk.classify import apply_features"
   ]
  },
  {
   "cell_type": "code",
   "execution_count": 2,
   "metadata": {},
   "outputs": [],
   "source": [
    "def gender_features(word):\n",
    "    return {'last_letter': word[-1]}"
   ]
  },
  {
   "cell_type": "code",
   "execution_count": 3,
   "metadata": {},
   "outputs": [
    {
     "data": {
      "text/plain": [
       "{'last_letter': 'k'}"
      ]
     },
     "execution_count": 3,
     "metadata": {},
     "output_type": "execute_result"
    }
   ],
   "source": [
    "gender_features('Shrek')"
   ]
  },
  {
   "cell_type": "code",
   "execution_count": 6,
   "metadata": {},
   "outputs": [],
   "source": [
    "labeled_names = (\n",
    "    [(name, 'male') for name in names.words('male.txt')] +\n",
    "    [(name, 'female') for name in names.words('female.txt')]\n",
    ")\n",
    "random.shuffle(labeled_names)"
   ]
  },
  {
   "cell_type": "code",
   "execution_count": 7,
   "metadata": {},
   "outputs": [],
   "source": [
    "featuresets = [(gender_features(n), gender) for (n, gender) in labeled_names]\n",
    "train_set, test_set = featuresets[500:], featuresets[:500]\n",
    "\n",
    "classifier = nltk.NaiveBayesClassifier.train(train_set)"
   ]
  },
  {
   "cell_type": "code",
   "execution_count": 8,
   "metadata": {},
   "outputs": [
    {
     "data": {
      "text/plain": [
       "'male'"
      ]
     },
     "execution_count": 8,
     "metadata": {},
     "output_type": "execute_result"
    }
   ],
   "source": [
    "classifier.classify(gender_features('Neo'))"
   ]
  },
  {
   "cell_type": "code",
   "execution_count": 9,
   "metadata": {},
   "outputs": [
    {
     "data": {
      "text/plain": [
       "'female'"
      ]
     },
     "execution_count": 9,
     "metadata": {},
     "output_type": "execute_result"
    }
   ],
   "source": [
    "classifier.classify(gender_features('Trinity'))"
   ]
  },
  {
   "cell_type": "code",
   "execution_count": 10,
   "metadata": {},
   "outputs": [
    {
     "name": "stdout",
     "output_type": "stream",
     "text": [
      "0.7626276195593766\n"
     ]
    }
   ],
   "source": [
    "print(nltk.classify.accuracy(classifier, train_set))"
   ]
  },
  {
   "cell_type": "code",
   "execution_count": 11,
   "metadata": {},
   "outputs": [
    {
     "name": "stdout",
     "output_type": "stream",
     "text": [
      "0.766\n"
     ]
    }
   ],
   "source": [
    "print(nltk.classify.accuracy(classifier, test_set))"
   ]
  },
  {
   "cell_type": "code",
   "execution_count": 13,
   "metadata": {},
   "outputs": [
    {
     "name": "stdout",
     "output_type": "stream",
     "text": [
      "Most Informative Features\n",
      "             last_letter = 'a'            female : male   =     34.7 : 1.0\n",
      "             last_letter = 'k'              male : female =     29.6 : 1.0\n",
      "             last_letter = 'f'              male : female =     15.2 : 1.0\n",
      "             last_letter = 'p'              male : female =     11.8 : 1.0\n",
      "             last_letter = 'v'              male : female =     10.4 : 1.0\n"
     ]
    }
   ],
   "source": [
    "classifier.show_most_informative_features(5)"
   ]
  },
  {
   "cell_type": "code",
   "execution_count": 17,
   "metadata": {},
   "outputs": [],
   "source": [
    "train_set = apply_features(gender_features, labeled_names[500:])\n",
    "test_set = apply_features(gender_features, labeled_names[:500])"
   ]
  },
  {
   "cell_type": "code",
   "execution_count": 18,
   "metadata": {},
   "outputs": [],
   "source": [
    "def gender_features2(name):\n",
    "    features = {}\n",
    "    features[\"first_letter\"] = name[0].lower()\n",
    "    features[\"last_letter\"] = name[-1].lower()\n",
    "    for letter in 'abcdefghijklmnopqrstuvwxyz':\n",
    "        features[\"count({})\".format(letter)] = name.lower().count(letter)\n",
    "        features[\"has({})\".format(letter)] = (letter in name.lower())\n",
    "        \n",
    "    return features"
   ]
  },
  {
   "cell_type": "code",
   "execution_count": 19,
   "metadata": {},
   "outputs": [
    {
     "data": {
      "text/plain": [
       "{'first_letter': 'j',\n",
       " 'last_letter': 'n',\n",
       " 'count(a)': 0,\n",
       " 'has(a)': False,\n",
       " 'count(b)': 0,\n",
       " 'has(b)': False,\n",
       " 'count(c)': 0,\n",
       " 'has(c)': False,\n",
       " 'count(d)': 0,\n",
       " 'has(d)': False,\n",
       " 'count(e)': 0,\n",
       " 'has(e)': False,\n",
       " 'count(f)': 0,\n",
       " 'has(f)': False,\n",
       " 'count(g)': 0,\n",
       " 'has(g)': False,\n",
       " 'count(h)': 1,\n",
       " 'has(h)': True,\n",
       " 'count(i)': 0,\n",
       " 'has(i)': False,\n",
       " 'count(j)': 1,\n",
       " 'has(j)': True,\n",
       " 'count(k)': 0,\n",
       " 'has(k)': False,\n",
       " 'count(l)': 0,\n",
       " 'has(l)': False,\n",
       " 'count(m)': 0,\n",
       " 'has(m)': False,\n",
       " 'count(n)': 1,\n",
       " 'has(n)': True,\n",
       " 'count(o)': 1,\n",
       " 'has(o)': True,\n",
       " 'count(p)': 0,\n",
       " 'has(p)': False,\n",
       " 'count(q)': 0,\n",
       " 'has(q)': False,\n",
       " 'count(r)': 0,\n",
       " 'has(r)': False,\n",
       " 'count(s)': 0,\n",
       " 'has(s)': False,\n",
       " 'count(t)': 0,\n",
       " 'has(t)': False,\n",
       " 'count(u)': 0,\n",
       " 'has(u)': False,\n",
       " 'count(v)': 0,\n",
       " 'has(v)': False,\n",
       " 'count(w)': 0,\n",
       " 'has(w)': False,\n",
       " 'count(x)': 0,\n",
       " 'has(x)': False,\n",
       " 'count(y)': 0,\n",
       " 'has(y)': False,\n",
       " 'count(z)': 0,\n",
       " 'has(z)': False}"
      ]
     },
     "execution_count": 19,
     "metadata": {},
     "output_type": "execute_result"
    }
   ],
   "source": [
    "gender_features2('John')"
   ]
  },
  {
   "cell_type": "code",
   "execution_count": 22,
   "metadata": {},
   "outputs": [
    {
     "name": "stdout",
     "output_type": "stream",
     "text": [
      "0.766\n"
     ]
    }
   ],
   "source": [
    "featuresets = [(gender_features2(n), gender) for (n, gender) in labeled_names]\n",
    "train_set, test_set = featuresets[500:], featuresets[:500]\n",
    "\n",
    "classifier = nltk.NaiveBayesClassifier.train(train_set)\n",
    "print(nltk.classify.accuracy(classifier, test_set))"
   ]
  },
  {
   "cell_type": "code",
   "execution_count": 24,
   "metadata": {},
   "outputs": [],
   "source": [
    "train_names = labeled_names[1500:]\n",
    "devtest_names = labeled_names[500:1500]\n",
    "test_names = labeled_names[:500]"
   ]
  },
  {
   "cell_type": "code",
   "execution_count": 25,
   "metadata": {},
   "outputs": [
    {
     "name": "stdout",
     "output_type": "stream",
     "text": [
      "0.759\n"
     ]
    }
   ],
   "source": [
    "train_set = [(gender_features(n), gender) for (n, gender) in train_names]\n",
    "devtest_set = [(gender_features(n), gender)  for (n, gender) in devtest_names]\n",
    "test_set = [(gender_features(n), gender) for (n, gender) in test_names]\n",
    "\n",
    "classifier = nltk.NaiveBayesClassifier.train(train_set)\n",
    "print(nltk.classify.accuracy(classifier, devtest_set))"
   ]
  },
  {
   "cell_type": "code",
   "execution_count": 26,
   "metadata": {},
   "outputs": [],
   "source": [
    "errors = []\n",
    "for (name, tag) in devtest_names:\n",
    "    guess = classifier.classify(gender_features(name))\n",
    "    if guess != tag:\n",
    "        errors.append( (tag, guess, name) )"
   ]
  },
  {
   "cell_type": "code",
   "execution_count": 29,
   "metadata": {},
   "outputs": [
    {
     "name": "stdout",
     "output_type": "stream",
     "text": [
      "correct=female   guess=male     name=Adelind                       \n",
      "correct=female   guess=male     name=Ag                            \n",
      "correct=female   guess=male     name=Alis                          \n",
      "correct=female   guess=male     name=Alison                        \n",
      "correct=female   guess=male     name=Alys                          \n",
      "correct=female   guess=male     name=Ann                           \n",
      "correct=female   guess=male     name=Annabell                      \n",
      "correct=female   guess=male     name=Ardis                         \n",
      "correct=female   guess=male     name=Arleen                        \n",
      "correct=female   guess=male     name=Ashlen                        \n",
      "correct=female   guess=male     name=Bab                           \n",
      "correct=female   guess=male     name=Beatrix                       \n",
      "correct=female   guess=male     name=Beilul                        \n",
      "correct=female   guess=male     name=Bess                          \n",
      "correct=female   guess=male     name=Betteann                      \n",
      "correct=female   guess=male     name=Blair                         \n",
      "correct=female   guess=male     name=Bo                            \n",
      "correct=female   guess=male     name=Bren                          \n",
      "correct=female   guess=male     name=Brenn                         \n",
      "correct=female   guess=male     name=Brier                         \n",
      "correct=female   guess=male     name=Britt                         \n",
      "correct=female   guess=male     name=Carin                         \n",
      "correct=female   guess=male     name=Chantal                       \n",
      "correct=female   guess=male     name=Charis                        \n",
      "correct=female   guess=male     name=Charlot                       \n",
      "correct=female   guess=male     name=Charlott                      \n",
      "correct=female   guess=male     name=Cher                          \n",
      "correct=female   guess=male     name=Cherilynn                     \n",
      "correct=female   guess=male     name=Cheryl                        \n",
      "correct=female   guess=male     name=Christen                      \n",
      "correct=female   guess=male     name=Christian                     \n",
      "correct=female   guess=male     name=Consuelo                      \n",
      "correct=female   guess=male     name=Coreen                        \n",
      "correct=female   guess=male     name=Coriss                        \n",
      "correct=female   guess=male     name=Cyb                           \n",
      "correct=female   guess=male     name=Darb                          \n",
      "correct=female   guess=male     name=Devon                         \n",
      "correct=female   guess=male     name=Diann                         \n",
      "correct=female   guess=male     name=Dion                          \n",
      "correct=female   guess=male     name=Doll                          \n",
      "correct=female   guess=male     name=Eileen                        \n",
      "correct=female   guess=male     name=Eilis                         \n",
      "correct=female   guess=male     name=Elyn                          \n",
      "correct=female   guess=male     name=Emlynn                        \n",
      "correct=female   guess=male     name=Ethel                         \n",
      "correct=female   guess=male     name=Ethelind                      \n",
      "correct=female   guess=male     name=Ethyl                         \n",
      "correct=female   guess=male     name=Evelyn                        \n",
      "correct=female   guess=male     name=Farand                        \n",
      "correct=female   guess=male     name=Fawn                          \n",
      "correct=female   guess=male     name=Felicdad                      \n",
      "correct=female   guess=male     name=Ginnifer                      \n",
      "correct=female   guess=male     name=Glennis                       \n",
      "correct=female   guess=male     name=Grier                         \n",
      "correct=female   guess=male     name=Gwen                          \n",
      "correct=female   guess=male     name=Gwyn                          \n",
      "correct=female   guess=male     name=Harriot                       \n",
      "correct=female   guess=male     name=Helyn                         \n",
      "correct=female   guess=male     name=Hester                        \n",
      "correct=female   guess=male     name=Ingaborg                      \n",
      "correct=female   guess=male     name=Isabel                        \n",
      "correct=female   guess=male     name=Jacklyn                       \n",
      "correct=female   guess=male     name=Jacquelyn                     \n",
      "correct=female   guess=male     name=Jaquelin                      \n",
      "correct=female   guess=male     name=Jaquelyn                      \n",
      "correct=female   guess=male     name=Jo                            \n",
      "correct=female   guess=male     name=Joan                          \n",
      "correct=female   guess=male     name=Jocelyn                       \n",
      "correct=female   guess=male     name=Jolyn                         \n",
      "correct=female   guess=male     name=Jordan                        \n",
      "correct=female   guess=male     name=Josselyn                      \n",
      "correct=female   guess=male     name=Jourdan                       \n",
      "correct=female   guess=male     name=Karilynn                      \n",
      "correct=female   guess=male     name=Katharyn                      \n",
      "correct=female   guess=male     name=Kellen                        \n",
      "correct=female   guess=male     name=Kevyn                         \n",
      "correct=female   guess=male     name=Kirstin                       \n",
      "correct=female   guess=male     name=Kit                           \n",
      "correct=female   guess=male     name=Kristen                       \n",
      "correct=female   guess=male     name=Kristyn                       \n",
      "correct=female   guess=male     name=Krystal                       \n",
      "correct=female   guess=male     name=Kylen                         \n",
      "correct=female   guess=male     name=Kym                           \n",
      "correct=female   guess=male     name=Lark                          \n",
      "correct=female   guess=male     name=Lib                           \n",
      "correct=female   guess=male     name=Linnet                        \n",
      "correct=female   guess=male     name=Lorain                        \n",
      "correct=female   guess=male     name=Lorrin                        \n",
      "correct=female   guess=male     name=Lynnell                       \n",
      "correct=female   guess=male     name=Magdalen                      \n",
      "correct=female   guess=male     name=Mariam                        \n",
      "correct=female   guess=male     name=Maribel                       \n",
      "correct=female   guess=male     name=Marieann                      \n",
      "correct=female   guess=male     name=Mariel                        \n",
      "correct=female   guess=male     name=Marilin                       \n",
      "correct=female   guess=male     name=Maryellen                     \n",
      "correct=female   guess=male     name=Meg                           \n",
      "correct=female   guess=male     name=Meghann                       \n",
      "correct=female   guess=male     name=Michell                       \n",
      "correct=female   guess=male     name=Mildrid                       \n",
      "correct=female   guess=male     name=Nadeen                        \n",
      "correct=female   guess=male     name=Nitin                         \n",
      "correct=female   guess=male     name=Noell                         \n",
      "correct=female   guess=male     name=Peg                           \n",
      "correct=female   guess=male     name=Phyllys                       \n",
      "correct=female   guess=male     name=Quentin                       \n",
      "correct=female   guess=male     name=Raquel                        \n",
      "correct=female   guess=male     name=Raven                         \n",
      "correct=female   guess=male     name=Raychel                       \n",
      "correct=female   guess=male     name=Rozamond                      \n",
      "correct=female   guess=male     name=Sal                           \n",
      "correct=female   guess=male     name=Saraann                       \n",
      "correct=female   guess=male     name=Shell                         \n",
      "correct=female   guess=male     name=Sheril                        \n",
      "correct=female   guess=male     name=Sherilyn                      \n",
      "correct=female   guess=male     name=Sheryl                        \n",
      "correct=female   guess=male     name=Sigrid                        \n",
      "correct=female   guess=male     name=Sileas                        \n",
      "correct=female   guess=male     name=Sybil                         \n",
      "correct=female   guess=male     name=Tamar                         \n",
      "correct=female   guess=male     name=Taryn                         \n",
      "correct=female   guess=male     name=Tomiko                        \n",
      "correct=female   guess=male     name=Trix                          \n",
      "correct=female   guess=male     name=Van                           \n",
      "correct=female   guess=male     name=Yoko                          \n",
      "correct=male     guess=female   name=Aguste                        \n",
      "correct=male     guess=female   name=Alexei                        \n",
      "correct=male     guess=female   name=Ambrosi                       \n",
      "correct=male     guess=female   name=Archie                        \n",
      "correct=male     guess=female   name=Ari                           \n",
      "correct=male     guess=female   name=Aubrey                        \n",
      "correct=male     guess=female   name=Bailie                        \n",
      "correct=male     guess=female   name=Baily                         \n",
      "correct=male     guess=female   name=Barde                         \n",
      "correct=male     guess=female   name=Barney                        \n",
      "correct=male     guess=female   name=Barnie                        \n",
      "correct=male     guess=female   name=Barri                         \n",
      "correct=male     guess=female   name=Bartolomei                    \n",
      "correct=male     guess=female   name=Beale                         \n",
      "correct=male     guess=female   name=Bernie                        \n",
      "correct=male     guess=female   name=Blake                         \n",
      "correct=male     guess=female   name=Brice                         \n",
      "correct=male     guess=female   name=Bruce                         \n",
      "correct=male     guess=female   name=Bucky                         \n",
      "correct=male     guess=female   name=Carlyle                       \n",
      "correct=male     guess=female   name=Claybourne                    \n",
      "correct=male     guess=female   name=Cobbie                        \n",
      "correct=male     guess=female   name=Courtney                      \n",
      "correct=male     guess=female   name=Dale                          \n",
      "correct=male     guess=female   name=Danny                         \n",
      "correct=male     guess=female   name=Darcy                         \n",
      "correct=male     guess=female   name=Davide                        \n",
      "correct=male     guess=female   name=Dennie                        \n",
      "correct=male     guess=female   name=Dimitry                       \n",
      "correct=male     guess=female   name=Donny                         \n",
      "correct=male     guess=female   name=Doyle                         \n",
      "correct=male     guess=female   name=Duane                         \n",
      "correct=male     guess=female   name=Dudley                        \n",
      "correct=male     guess=female   name=Duffie                        \n",
      "correct=male     guess=female   name=Earle                         \n",
      "correct=male     guess=female   name=Elijah                        \n",
      "correct=male     guess=female   name=Emery                         \n",
      "correct=male     guess=female   name=Enoch                         \n",
      "correct=male     guess=female   name=Eugene                        \n",
      "correct=male     guess=female   name=Felipe                        \n",
      "correct=male     guess=female   name=Filipe                        \n",
      "correct=male     guess=female   name=Finley                        \n",
      "correct=male     guess=female   name=Garey                         \n",
      "correct=male     guess=female   name=Geoffrey                      \n",
      "correct=male     guess=female   name=Gerri                         \n",
      "correct=male     guess=female   name=Giavani                       \n",
      "correct=male     guess=female   name=Giffy                         \n",
      "correct=male     guess=female   name=Giovanne                      \n",
      "correct=male     guess=female   name=Granville                     \n",
      "correct=male     guess=female   name=Guthry                        \n",
      "correct=male     guess=female   name=Hale                          \n",
      "correct=male     guess=female   name=Haleigh                       \n",
      "correct=male     guess=female   name=Heath                         \n",
      "correct=male     guess=female   name=Heinrich                      \n",
      "correct=male     guess=female   name=Hersh                         \n",
      "correct=male     guess=female   name=Herve                         \n",
      "correct=male     guess=female   name=Hymie                         \n",
      "correct=male     guess=female   name=Ira                           \n",
      "correct=male     guess=female   name=Jean-Christophe               \n",
      "correct=male     guess=female   name=Jedediah                      \n",
      "correct=male     guess=female   name=Jeffie                        \n",
      "correct=male     guess=female   name=Jeffry                        \n",
      "correct=male     guess=female   name=Jephthah                      \n",
      "correct=male     guess=female   name=Jerome                        \n",
      "correct=male     guess=female   name=Jerri                         \n",
      "correct=male     guess=female   name=Jerrome                       \n",
      "correct=male     guess=female   name=Jerzy                         \n",
      "correct=male     guess=female   name=Josiah                        \n",
      "correct=male     guess=female   name=Jude                          \n",
      "correct=male     guess=female   name=Keefe                         \n",
      "correct=male     guess=female   name=Lonny                         \n",
      "correct=male     guess=female   name=Lorrie                        \n",
      "correct=male     guess=female   name=Luce                          \n",
      "correct=male     guess=female   name=Marmaduke                     \n",
      "correct=male     guess=female   name=Maurise                       \n",
      "correct=male     guess=female   name=Michale                       \n",
      "correct=male     guess=female   name=Mickey                        \n",
      "correct=male     guess=female   name=Mitch                         \n",
      "correct=male     guess=female   name=Mugsy                         \n",
      "correct=male     guess=female   name=Munroe                        \n",
      "correct=male     guess=female   name=Murray                        \n",
      "correct=male     guess=female   name=Ollie                         \n",
      "correct=male     guess=female   name=Orville                       \n",
      "correct=male     guess=female   name=Osbourne                      \n",
      "correct=male     guess=female   name=Parry                         \n",
      "correct=male     guess=female   name=Phillipe                      \n",
      "correct=male     guess=female   name=Randolph                      \n",
      "correct=male     guess=female   name=Rey                           \n",
      "correct=male     guess=female   name=Riley                         \n",
      "correct=male     guess=female   name=Roarke                        \n",
      "correct=male     guess=female   name=Sarge                         \n",
      "correct=male     guess=female   name=Sawyere                       \n",
      "correct=male     guess=female   name=Scarface                      \n",
      "correct=male     guess=female   name=Serge                         \n",
      "correct=male     guess=female   name=Sheffy                        \n",
      "correct=male     guess=female   name=Sidney                        \n",
      "correct=male     guess=female   name=Siffre                        \n",
      "correct=male     guess=female   name=Simone                        \n",
      "correct=male     guess=female   name=Skippy                        \n",
      "correct=male     guess=female   name=Solly                         \n",
      "correct=male     guess=female   name=Tanney                        \n",
      "correct=male     guess=female   name=Tarrance                      \n",
      "correct=male     guess=female   name=Timmie                        \n",
      "correct=male     guess=female   name=Timmy                         \n",
      "correct=male     guess=female   name=Tobe                          \n",
      "correct=male     guess=female   name=Tobie                         \n",
      "correct=male     guess=female   name=Tommy                         \n",
      "correct=male     guess=female   name=Townie                        \n",
      "correct=male     guess=female   name=Tully                         \n",
      "correct=male     guess=female   name=Vasili                        \n",
      "correct=male     guess=female   name=Verne                         \n",
      "correct=male     guess=female   name=Wallache                      \n",
      "correct=male     guess=female   name=Westley                       \n",
      "correct=male     guess=female   name=Woody                         \n",
      "correct=male     guess=female   name=Yardley                       \n",
      "correct=male     guess=female   name=Yehudi                        \n"
     ]
    }
   ],
   "source": [
    "for (tag, guess, name) in sorted(errors):\n",
    "    print('correct={:<8} guess={:<8s} name={:<30}'.format(tag, guess, name))"
   ]
  },
  {
   "cell_type": "code",
   "execution_count": 30,
   "metadata": {},
   "outputs": [],
   "source": [
    "def gender_features(word):\n",
    "    return {'suffix1' : word[-1],\n",
    "            'suffix2' : word[-2]}"
   ]
  },
  {
   "cell_type": "code",
   "execution_count": 31,
   "metadata": {},
   "outputs": [
    {
     "name": "stdout",
     "output_type": "stream",
     "text": [
      "0.775\n"
     ]
    }
   ],
   "source": [
    "train_set = [(gender_features(n), gender) for (n, gender) in train_names]\n",
    "devtest_set = [(gender_features(n), gender)  for (n, gender) in devtest_names]\n",
    "test_set = [(gender_features(n), gender) for (n, gender) in test_names]\n",
    "\n",
    "classifier = nltk.NaiveBayesClassifier.train(train_set)\n",
    "print(nltk.classify.accuracy(classifier, devtest_set))"
   ]
  },
  {
   "cell_type": "code",
   "execution_count": null,
   "metadata": {},
   "outputs": [],
   "source": []
  }
 ],
 "metadata": {
  "kernelspec": {
   "display_name": "Python 3",
   "language": "python",
   "name": "python3"
  },
  "language_info": {
   "codemirror_mode": {
    "name": "ipython",
    "version": 3
   },
   "file_extension": ".py",
   "mimetype": "text/x-python",
   "name": "python",
   "nbconvert_exporter": "python",
   "pygments_lexer": "ipython3",
   "version": "3.7.1"
  }
 },
 "nbformat": 4,
 "nbformat_minor": 2
}
