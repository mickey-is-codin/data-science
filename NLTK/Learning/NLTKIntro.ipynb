{
 "cells": [
  {
   "cell_type": "markdown",
   "metadata": {},
   "source": [
    "<h1>NLTK Book Notes Chapter 1</h1>\n",
    "\n",
    "<p>Going to begin to parse through Natural Language Processing via Python. I'll be following along with the <a href=\"http://www.nltk.org/book\">free book</a> created by the creators of the Natural Language Toolkit (NLTK).</p>\n",
    "\n",
    "<p>This notebook for now will just be chapter 1 of the book (Python and Natural Language Processing) but if the need arises I'll extend it to be more of the book.</p>"
   ]
  },
  {
   "cell_type": "markdown",
   "metadata": {},
   "source": [
    "<h3> Importing and Downloading </h3>\n",
    "\n",
    "<p> Via the Python interpreter the easiest way to install is simply 'pip3 install nltk', followed by 'nltk.download(`all`) in a Python interpreter.</p>"
   ]
  },
  {
   "cell_type": "code",
   "execution_count": 1,
   "metadata": {},
   "outputs": [
    {
     "name": "stdout",
     "output_type": "stream",
     "text": [
      "*** Introductory Examples for the NLTK Book ***\n",
      "Loading text1, ..., text9 and sent1, ..., sent9\n",
      "Type the name of the text or sentence to view it.\n",
      "Type: 'texts()' or 'sents()' to list the materials.\n",
      "text1: Moby Dick by Herman Melville 1851\n",
      "text2: Sense and Sensibility by Jane Austen 1811\n",
      "text3: The Book of Genesis\n",
      "text4: Inaugural Address Corpus\n",
      "text5: Chat Corpus\n",
      "text6: Monty Python and the Holy Grail\n",
      "text7: Wall Street Journal\n",
      "text8: Personals Corpus\n",
      "text9: The Man Who Was Thursday by G . K . Chesterton 1908\n"
     ]
    }
   ],
   "source": [
    "import os\n",
    "\n",
    "from IPython.display import Image\n",
    "\n",
    "import numpy as np\n",
    "import matplotlib.pyplot as plt\n",
    "\n",
    "import nltk\n",
    "from nltk.book import *"
   ]
  },
  {
   "cell_type": "markdown",
   "metadata": {},
   "source": [
    "<p>To get into on any nltk object just enter the object name </p>"
   ]
  },
  {
   "cell_type": "code",
   "execution_count": 2,
   "metadata": {},
   "outputs": [
    {
     "name": "stdout",
     "output_type": "stream",
     "text": [
      "<Text: Moby Dick by Herman Melville 1851>\n",
      "<Text: Sense and Sensibility by Jane Austen 1811>\n"
     ]
    }
   ],
   "source": [
    "print(text1)\n",
    "print(text2)"
   ]
  },
  {
   "cell_type": "markdown",
   "metadata": {},
   "source": [
    "<h3>Searching Text</h3>\n",
    "\n",
    "<p>The concordance method of an nltk object allows us to view every use of a word along with some context for that word.</p>"
   ]
  },
  {
   "cell_type": "code",
   "execution_count": 3,
   "metadata": {},
   "outputs": [
    {
     "name": "stdout",
     "output_type": "stream",
     "text": [
      "Displaying 11 of 11 matches:\n",
      "ong the former , one was of a most monstrous size . ... This came towards us , \n",
      "ON OF THE PSALMS . \" Touching that monstrous bulk of the whale or ork we have r\n",
      "ll over with a heathenish array of monstrous clubs and spears . Some were thick\n",
      "d as you gazed , and wondered what monstrous cannibal and savage could ever hav\n",
      "that has survived the flood ; most monstrous and most mountainous ! That Himmal\n",
      "they might scout at Moby Dick as a monstrous fable , or still worse and more de\n",
      "th of Radney .'\" CHAPTER 55 Of the Monstrous Pictures of Whales . I shall ere l\n",
      "ing Scenes . In connexion with the monstrous pictures of whales , I am strongly\n",
      "ere to enter upon those still more monstrous stories of them which are to be fo\n",
      "ght have been rummaged out of this monstrous cabinet there is no telling . But \n",
      "of Whale - Bones ; for Whales of a monstrous size are oftentimes cast up dead u\n"
     ]
    }
   ],
   "source": [
    "text1.concordance(\"monstrous\")"
   ]
  },
  {
   "cell_type": "markdown",
   "metadata": {},
   "source": [
    "<strong>All instances of the word 'light' in the Book of Genesis: </p>"
   ]
  },
  {
   "cell_type": "code",
   "execution_count": 4,
   "metadata": {},
   "outputs": [
    {
     "name": "stdout",
     "output_type": "stream",
     "text": [
      "Displaying 11 of 11 matches:\n",
      "waters . And God said , Let there be light : and there was light . And God saw \n",
      ", Let there be light : and there was light . And God saw the light , that it wa\n",
      "nd there was light . And God saw the light , that it was good : and God divided\n",
      "at it was good : and God divided the light from the darkness . And God called t\n",
      "om the darkness . And God called the light Day , and the darkness he called Nig\n",
      " the firmament of the heaven to give light upon the ear and it was so . And God\n",
      " made two great lights ; the greater light to rule the day , and the lesser lig\n",
      "ght to rule the day , and the lesser light to rule the nig he made the stars al\n",
      " the firmament of the heaven to give light upon the earth , And to rule over th\n",
      "d over the night , and to divide the light from the darkne and God saw that it \n",
      " spoken . As soon as the morning was light , the men were sent away , they and \n"
     ]
    }
   ],
   "source": [
    "text3.concordance(\"light\")"
   ]
  },
  {
   "cell_type": "markdown",
   "metadata": {},
   "source": [
    "<p>We can view other words that appearc in similar contexts to these words. For instance, 'monstrous' appeared as \"of monstrous clubs\" but what other words might appear in similar contexts?</p>"
   ]
  },
  {
   "cell_type": "code",
   "execution_count": 5,
   "metadata": {},
   "outputs": [
    {
     "name": "stdout",
     "output_type": "stream",
     "text": [
      "true contemptible christian abundant few part mean careful puzzled\n",
      "mystifying passing curious loving wise doleful gamesome singular\n",
      "delightfully perilous fearless\n"
     ]
    }
   ],
   "source": [
    "text1.similar(\"monstrous\")"
   ]
  },
  {
   "cell_type": "code",
   "execution_count": 6,
   "metadata": {},
   "outputs": [
    {
     "name": "stdout",
     "output_type": "stream",
     "text": [
      "god cattle beast him you me not gold thee bread jacob corn day them\n",
      "life fowl dust adam afraid skins\n"
     ]
    }
   ],
   "source": [
    "text3.similar(\"good\")"
   ]
  },
  {
   "cell_type": "markdown",
   "metadata": {},
   "source": [
    "<p>The <strong>common_contexts()</strong> method can be used to show the context results of the similar() method.</p>"
   ]
  },
  {
   "cell_type": "code",
   "execution_count": 7,
   "metadata": {},
   "outputs": [
    {
     "name": "stdout",
     "output_type": "stream",
     "text": [
      "of_and but_and the_of\n"
     ]
    }
   ],
   "source": [
    "text3.common_contexts([\"good\", \"god\"])"
   ]
  },
  {
   "cell_type": "markdown",
   "metadata": {},
   "source": [
    "<p>NLTK can also display the location of a word within a document via a <strong>Dispersion Plot</strong>.</p>"
   ]
  },
  {
   "cell_type": "code",
   "execution_count": 8,
   "metadata": {},
   "outputs": [
    {
     "name": "stderr",
     "output_type": "stream",
     "text": [
      "/Users/mickey/.local/share/virtualenvs/Flow-pySRtaAc/lib/python3.7/site-packages/nltk/draw/__init__.py:15: UserWarning: nltk.draw package not loaded (please install Tkinter library).\n",
      "  warnings.warn(\"nltk.draw package not loaded \" \"(please install Tkinter library).\")\n"
     ]
    },
    {
     "data": {
      "image/png": "[encoded data removed]",
      "text/plain": [
       "<Figure size 432x288 with 1 Axes>"
      ]
     },
     "metadata": {
      "needs_background": "light"
     },
     "output_type": "display_data"
    }
   ],
   "source": [
    "text3.dispersion_plot([\"firmament\"])\n",
    "#os.system('convert output.ps output.png')\n",
    "#Image(filename='output.png')"
   ]
  },
  {
   "cell_type": "markdown",
   "metadata": {},
   "source": [
    "<h3>Counting Vocabulary</h3>"
   ]
  },
  {
   "cell_type": "code",
   "execution_count": 9,
   "metadata": {},
   "outputs": [
    {
     "name": "stdout",
     "output_type": "stream",
     "text": [
      "The number of words used in the Book of Genesis is 44764\n"
     ]
    }
   ],
   "source": [
    "print('The number of words used in the Book of Genesis is {}'.format(len(text3)))"
   ]
  },
  {
   "cell_type": "code",
   "execution_count": 10,
   "metadata": {},
   "outputs": [
    {
     "name": "stdout",
     "output_type": "stream",
     "text": [
      "The number of distinct words contained in the Book of Geneis is 2789\n"
     ]
    }
   ],
   "source": [
    "print('The number of distinct words contained in the Book of Geneis is {}'\n",
    "     .format(len(sorted(set(text3)))))"
   ]
  },
  {
   "cell_type": "markdown",
   "metadata": {},
   "source": [
    "<p>The lexical richness of a text is the ratio of the number of unique words in the text to the total number of words in the text</p>"
   ]
  },
  {
   "cell_type": "code",
   "execution_count": 11,
   "metadata": {},
   "outputs": [
    {
     "name": "stdout",
     "output_type": "stream",
     "text": [
      "The lexical richness of the Book of Genesis is 6.23%\n"
     ]
    }
   ],
   "source": [
    "print(\"The lexical richness of the Book of Genesis is %.2f%%\" %\n",
    "      (len(set(text3)) / len(text3) * 100))"
   ]
  },
  {
   "cell_type": "markdown",
   "metadata": {},
   "source": [
    "<strong>Specific words</strong>"
   ]
  },
  {
   "cell_type": "code",
   "execution_count": 12,
   "metadata": {},
   "outputs": [
    {
     "name": "stdout",
     "output_type": "stream",
     "text": [
      "The word 'smote' makes up 0.011170% of the Book of Genesis\n",
      "The word 'God' makes up 0.516040% of the Book of Genesis\n"
     ]
    }
   ],
   "source": [
    "smote_count = text3.count(\"smote\")\n",
    "\n",
    "print(\"The word 'smote' makes up %.6f%% of the Book of Genesis\" % \n",
    "     (smote_count / len(text3) * 100))\n",
    "\n",
    "God_count = text3.count(\"God\")\n",
    "\n",
    "print(\"The word 'God' makes up %.6f%% of the Book of Genesis\" % \n",
    "     (God_count / len(text3) * 100))"
   ]
  },
  {
   "cell_type": "markdown",
   "metadata": {},
   "source": [
    "<p>Useful little functions:</p>"
   ]
  },
  {
   "cell_type": "code",
   "execution_count": 13,
   "metadata": {},
   "outputs": [
    {
     "name": "stdout",
     "output_type": "stream",
     "text": [
      "The word God took up 0.51604% of <Text: The Book of Genesis>\n",
      "The lexical diversity of <Text: Moby Dick by Herman Melville 1851> is 0.07\n",
      "The lexical diversity of <Text: Chat Corpus> is 0.13\n"
     ]
    },
    {
     "data": {
      "text/plain": [
       "0.13477005109975562"
      ]
     },
     "execution_count": 13,
     "metadata": {},
     "output_type": "execute_result"
    }
   ],
   "source": [
    "def lexical_diversity(text):\n",
    "    diversity = len(set(text)) / len(text)\n",
    "    print(\"The lexical diversity of %s is %.2f\" % (text, diversity))\n",
    "    return diversity\n",
    "\n",
    "def percentage(word, text):\n",
    "    word_count = text.count(word)\n",
    "    percentage = word_count / len(text) * 100\n",
    "    print(\"The word %s took up %.5f%% of %s\" % (word, percentage, text))\n",
    "    return percentage\n",
    "\n",
    "percentage(\"God\", text3)\n",
    "\n",
    "lexical_diversity(text1)\n",
    "lexical_diversity(text5)"
   ]
  },
  {
   "cell_type": "markdown",
   "metadata": {},
   "source": [
    "<h3>Statistical Analysis</h3>"
   ]
  },
  {
   "cell_type": "code",
   "execution_count": 14,
   "metadata": {},
   "outputs": [
    {
     "name": "stdout",
     "output_type": "stream",
     "text": [
      "<FreqDist with 19317 samples and 260819 outcomes>\n",
      "1: word=, freq=18713\n",
      "2: word=the freq=13721\n",
      "3: word=. freq=6862\n",
      "4: word=of freq=6536\n",
      "5: word=and freq=6024\n",
      "6: word=a freq=4569\n",
      "7: word=to freq=4542\n",
      "8: word=; freq=4072\n",
      "9: word=in freq=3916\n",
      "10: word=that freq=2982\n",
      "11: word=' freq=2684\n",
      "12: word=- freq=2552\n",
      "13: word=his freq=2459\n",
      "14: word=it freq=2209\n",
      "15: word=I freq=2124\n",
      "16: word=s freq=1739\n",
      "17: word=is freq=1695\n",
      "18: word=he freq=1661\n",
      "19: word=with freq=1659\n",
      "20: word=was freq=1632\n",
      "21: word=as freq=1620\n",
      "22: word=\" freq=1478\n",
      "23: word=all freq=1462\n",
      "24: word=for freq=1414\n",
      "25: word=this freq=1280\n",
      "26: word=! freq=1269\n",
      "27: word=at freq=1231\n",
      "28: word=by freq=1137\n",
      "29: word=but freq=1113\n",
      "30: word=not freq=1103\n",
      "31: word=-- freq=1070\n",
      "32: word=him freq=1058\n",
      "33: word=from freq=1052\n",
      "34: word=be freq=1030\n",
      "35: word=on freq=1005\n",
      "36: word=so freq=918\n",
      "37: word=whale freq=906\n",
      "38: word=one freq=889\n",
      "39: word=you freq=841\n",
      "40: word=had freq=767\n",
      "41: word=have freq=760\n",
      "42: word=there freq=715\n",
      "43: word=But freq=705\n",
      "44: word=or freq=697\n",
      "45: word=were freq=680\n",
      "46: word=now freq=646\n",
      "47: word=which freq=640\n",
      "48: word=? freq=637\n",
      "49: word=me freq=627\n",
      "50: word=like freq=624\n"
     ]
    }
   ],
   "source": [
    "fdist1 = FreqDist(text1)\n",
    "\n",
    "print(fdist1)\n",
    "\n",
    "most_common_words = fdist1.most_common(50)\n",
    "\n",
    "for i, (word, freq) in enumerate(most_common_words):\n",
    "    print(\"%d: word=%s freq=%s\" % (i+1,word, freq))"
   ]
  },
  {
   "cell_type": "code",
   "execution_count": 15,
   "metadata": {},
   "outputs": [
    {
     "data": {
      "image/png": "[encoded data removed]",
      "text/plain": [
       "<Figure size 720x720 with 1 Axes>"
      ]
     },
     "metadata": {
      "needs_background": "light"
     },
     "output_type": "display_data"
    }
   ],
   "source": [
    "plt.figure(figsize=(10,10))\n",
    "fdist1.plot(50, cumulative=True)"
   ]
  },
  {
   "cell_type": "markdown",
   "metadata": {},
   "source": [
    "<p>A hapax is a word that appears only once in the text.</p>"
   ]
  },
  {
   "cell_type": "code",
   "execution_count": 16,
   "metadata": {},
   "outputs": [
    {
     "name": "stdout",
     "output_type": "stream",
     "text": [
      "The number of words appearing only once in <Text: Moby Dick by Herman Melville 1851> is 9002\n",
      "A random word appearing only once in <Text: Moby Dick by Herman Melville 1851> is spiralized\n"
     ]
    }
   ],
   "source": [
    "num_hapaxes = len(fdist1.hapaxes())\n",
    "print(\"The number of words appearing only once in %s is %d\" % (text1, num_hapaxes))\n",
    "\n",
    "random_ix = np.random.randint(num_hapaxes)\n",
    "random_word = fdist1.hapaxes()[random_ix]\n",
    "print(\"A random word appearing only once in %s is %s\" % (text1, random_word))"
   ]
  },
  {
   "cell_type": "markdown",
   "metadata": {},
   "source": [
    "<h3>Fine-grained selection of words</h3>\n",
    "\n",
    "<p>Looking now at long words that appear in the text. This is a good example of setting conditional queries within a text</p>"
   ]
  },
  {
   "cell_type": "code",
   "execution_count": 17,
   "metadata": {},
   "outputs": [
    {
     "name": "stdout",
     "output_type": "stream",
     "text": [
      "CIRCUMNAVIGATION is a long word from <Text: Moby Dick by Herman Melville 1851>!\n"
     ]
    }
   ],
   "source": [
    "V = set(text1)\n",
    "\n",
    "long_words = [w for w in V if len(w) > 15]\n",
    "\n",
    "random_long_ix = np.random.randint(len(long_words))\n",
    "random_long_word = long_words[random_long_ix]\n",
    "\n",
    "print(\"%s is a long word from %s!\" % (random_long_word, text1))"
   ]
  },
  {
   "cell_type": "code",
   "execution_count": 18,
   "metadata": {},
   "outputs": [
    {
     "name": "stdout",
     "output_type": "stream",
     "text": [
      "#14-19teens\n",
      "#talkcity_adults\n",
      "((((((((((\n",
      "........\n",
      "Question\n",
      "actually\n",
      "anything\n",
      "computer\n",
      "cute.-ass\n",
      "everyone\n",
      "football\n",
      "innocent\n",
      "listening\n",
      "remember\n",
      "seriously\n",
      "something\n",
      "together\n",
      "tomorrow\n",
      "watching\n"
     ]
    }
   ],
   "source": [
    "fdist5 = FreqDist(text5)\n",
    "long_freq_chat_words = sorted([w for w in set(text5) if len(w) > 7 and fdist5[w] > 7])\n",
    "for word in long_freq_chat_words:\n",
    "    print(word)"
   ]
  },
  {
   "cell_type": "markdown",
   "metadata": {},
   "source": [
    "<h3>Collocations and Bigrams</h3>\n",
    "\n",
    "<strong>collocation: </strong> <p>Words that typically occur together.</p>"
   ]
  },
  {
   "cell_type": "code",
   "execution_count": 19,
   "metadata": {},
   "outputs": [
    {
     "name": "stdout",
     "output_type": "stream",
     "text": [
      "('more', 'is')\n",
      "('is', 'said')\n",
      "('said', 'than')\n",
      "('than', 'done')\n"
     ]
    }
   ],
   "source": [
    "basic_bigrams = bigrams(['more', 'is', 'said', 'than', 'done'])\n",
    "basic_bigram_list = list(basic_bigrams)\n",
    "for bigram in basic_bigram_list:\n",
    "    print(bigram)"
   ]
  },
  {
   "cell_type": "markdown",
   "metadata": {},
   "source": [
    "<p>A collocation is just a frequently occurring bigram</p>"
   ]
  },
  {
   "cell_type": "code",
   "execution_count": 27,
   "metadata": {},
   "outputs": [
    {
     "name": "stdout",
     "output_type": "stream",
     "text": [
      "United States; fellow citizens; four years; years ago; Federal\n",
      "Government; General Government; American people; Vice President; Old\n",
      "World; Almighty God; Fellow citizens; Chief Magistrate; Chief Justice;\n",
      "God bless; every citizen; Indian tribes; public debt; one another;\n",
      "foreign nations; political parties\n",
      "None\n"
     ]
    }
   ],
   "source": [
    "address_collocations = text4.collocations()\n",
    "print(address_collocations)"
   ]
  },
  {
   "cell_type": "markdown",
   "metadata": {},
   "source": [
    "<h3>Counting Other Things</h3>"
   ]
  },
  {
   "cell_type": "code",
   "execution_count": 31,
   "metadata": {},
   "outputs": [
    {
     "name": "stdout",
     "output_type": "stream",
     "text": [
      "(3, 'and')\n",
      "(2, 'to')\n",
      "(5, 'teach')\n",
      "(4, 'them')\n",
      "(2, 'by')\n",
      "(4, 'what')\n",
      "(4, 'name')\n",
      "(1, 'a')\n",
      "(5, 'whale')\n",
      "(1, '-')\n",
      "(4, 'fish')\n",
      "(2, 'is')\n",
      "(2, 'to')\n",
      "(2, 'be')\n",
      "(6, 'called')\n",
      "(2, 'in')\n",
      "(3, 'our')\n",
      "(6, 'tongue')\n",
      "(7, 'leaving')\n",
      "(3, 'out')\n",
      "(1, ',')\n",
      "(7, 'through')\n",
      "(9, 'ignorance')\n",
      "(1, ',')\n",
      "(3, 'the')\n",
      "(6, 'letter')\n",
      "(1, 'H')\n",
      "(1, ',')\n",
      "(5, 'which')\n",
      "(6, 'almost')\n",
      "(5, 'alone')\n",
      "(6, 'maketh')\n",
      "(3, 'the')\n",
      "(13, 'signification')\n",
      "(2, 'of')\n",
      "(3, 'the')\n",
      "(4, 'word')\n",
      "(1, ',')\n",
      "(3, 'you')\n",
      "(7, 'deliver')\n",
      "(4, 'that')\n",
      "(5, 'which')\n",
      "(2, 'is')\n",
      "(3, 'not')\n",
      "(4, 'true')\n",
      "(2, '.\"')\n",
      "(2, '--')\n",
      "(8, 'HACKLUYT')\n",
      "(1, '\"')\n",
      "(5, 'WHALE')\n"
     ]
    }
   ],
   "source": [
    "word_lengths = [len(w) for w in text1]\n",
    "\n",
    "for i in zip(word_lengths[100:150], text1[100:150]):\n",
    "    print(i)"
   ]
  },
  {
   "cell_type": "code",
   "execution_count": 46,
   "metadata": {},
   "outputs": [
    {
     "name": "stdout",
     "output_type": "stream",
     "text": [
      "<FreqDist with 19 samples and 260819 outcomes>\n",
      "1 47933\n",
      "4 42345\n",
      "2 38513\n",
      "6 17111\n",
      "8 9966\n",
      "9 6428\n",
      "11 1873\n",
      "5 26597\n",
      "7 14399\n",
      "3 50223\n",
      "10 3528\n",
      "12 1053\n",
      "13 567\n",
      "14 177\n",
      "16 22\n",
      "15 70\n",
      "17 12\n",
      "18 1\n",
      "20 1\n"
     ]
    }
   ],
   "source": [
    "fdist = FreqDist(len(w) for w in text1)\n",
    "print(fdist)\n",
    "\n",
    "for key, val in fdist.items():\n",
    "    print(key, val)"
   ]
  },
  {
   "cell_type": "code",
   "execution_count": 54,
   "metadata": {},
   "outputs": [
    {
     "name": "stdout",
     "output_type": "stream",
     "text": [
      "The ten most common word lengths in <Text: Moby Dick by Herman Melville 1851>: \n",
      "3 50223\n",
      "1 47933\n",
      "4 42345\n",
      "2 38513\n",
      "5 26597\n",
      "6 17111\n",
      "7 14399\n",
      "8 9966\n",
      "9 6428\n",
      "10 3528\n",
      "The number of four letter words in <Text: Moby Dick by Herman Melville 1851> is: 38513\n",
      "\n",
      "There are a total of 50223 3 letter words in <Text: Moby Dick by Herman Melville 1851>\n",
      "19.26% of all words in <Text: Moby Dick by Herman Melville 1851> are 3 letters long\n"
     ]
    }
   ],
   "source": [
    "ten_most_common_lengths = fdist.most_common()[0:10]\n",
    "\n",
    "print(\"The ten most common word lengths in %s: \" % (text1))\n",
    "\n",
    "for (length, freq) in ten_most_common_lengths:\n",
    "    print(length, freq)\n",
    "    \n",
    "print(\"The number of four letter words in %s is: %d\" % (text1, fdist[2]))\n",
    "\n",
    "print(\"\\nThere are a total of %d 3 letter words in %s\" % (fdist[3], text1))\n",
    "print(\"%.2f%% of all words in %s are 3 letters long\" % (fdist.freq(3)*100, text1))"
   ]
  },
  {
   "cell_type": "markdown",
   "metadata": {},
   "source": [
    "<h3>Word Operations from NLTK</h3>"
   ]
  },
  {
   "cell_type": "code",
   "execution_count": 57,
   "metadata": {},
   "outputs": [
    {
     "name": "stdout",
     "output_type": "stream",
     "text": [
      "The first sentence from text 7 (<Text: Wall Street Journal>):\n",
      "['Pierre', 'Vinken', ',', '61', 'years', 'old', ',', 'will', 'join', 'the', 'board', 'as', 'a', 'nonexecutive', 'director', 'Nov.', '29', '.']\n",
      "[',', '61', 'old', ',', 'the', 'as', 'a', '29', '.']\n"
     ]
    }
   ],
   "source": [
    "print(\"The first sentence from text 7 (%s):\" % (text7))\n",
    "\n",
    "print(sent7)\n",
    "short_sent7_words = [w for w in sent7 if len(w) < 4]\n",
    "print(short_sent7_words)"
   ]
  },
  {
   "cell_type": "markdown",
   "metadata": {},
   "source": [
    "<p>A list of word comparison functions from nltk: </p>\n",
    "\n",
    "```\n",
    "s.startswith(t)\ttest if s starts with t\n",
    "s.endswith(t)\t  test if s ends with t\n",
    "t in s      \t   test if t is a substring of s\n",
    "s.islower()\t    test if s contains cased characters and all are lowercase\n",
    "s.isupper()\t    test if s contains cased characters and all are uppercase\n",
    "s.isalpha()\t    test if s is non-empty and all characters in s are alphabetic\n",
    "s.isalnum()\t    test if s is non-empty and all characters in s are alphanumeric\n",
    "s.isdigit()\t    test if s is non-empty and all characters in s are digits\n",
    "s.istitle()\t    test if s contains cased characters and is titlecased (i.e. all words in s                     have initial capitals)\n",
    "```"
   ]
  },
  {
   "cell_type": "code",
   "execution_count": 61,
   "metadata": {},
   "outputs": [
    {
     "name": "stdout",
     "output_type": "stream",
     "text": [
      "All words in Moby Dick that end in '-ableness: '\n",
      "['comfortableness', 'honourableness', 'immutableness', 'indispensableness', 'indomitableness', 'intolerableness', 'palpableness', 'reasonableness', 'uncomfortableness']\n"
     ]
    }
   ],
   "source": [
    "print(\"All words in Moby Dick that end in '-ableness: '\")\n",
    "print(sorted(w for w in set(text1) if w.endswith('ableness')))"
   ]
  },
  {
   "cell_type": "markdown",
   "metadata": {},
   "source": [
    "<h3>Operating on Every Element</h3>\n",
    "\n",
    "<p>We might want to shift the text around. As it stands the word 'This' is counted as different than 'this' so we might have to do things like make every word lowercase for statistical analysis. We can also filter out punctuation.</p>"
   ]
  },
  {
   "cell_type": "code",
   "execution_count": 64,
   "metadata": {},
   "outputs": [
    {
     "name": "stdout",
     "output_type": "stream",
     "text": [
      "['[', 'MOBY', 'DICK', 'BY', 'HERMAN', 'MELVILLE', '1851', ']', 'ETYMOLOGY', '.']\n"
     ]
    }
   ],
   "source": [
    "big_moby = [w.upper() for w in text1]\n",
    "print(big_moby[0:10])"
   ]
  },
  {
   "cell_type": "code",
   "execution_count": 68,
   "metadata": {},
   "outputs": [
    {
     "name": "stdout",
     "output_type": "stream",
     "text": [
      "260819\n",
      "19317\n",
      "17231\n"
     ]
    }
   ],
   "source": [
    "little_moby = set([w.lower() for w in text1])\n",
    "\n",
    "print(len(text1))\n",
    "print(len(set(text1)))\n",
    "print(len(little_moby))"
   ]
  },
  {
   "cell_type": "code",
   "execution_count": 70,
   "metadata": {},
   "outputs": [
    {
     "name": "stdout",
     "output_type": "stream",
     "text": [
      "16948\n"
     ]
    }
   ],
   "source": [
    "no_punc = set([word.lower() for word in text1 if word.isalpha()])\n",
    "print(len(no_punc))"
   ]
  },
  {
   "cell_type": "markdown",
   "metadata": {},
   "source": [
    "<h2>Automatic Natural Language Understanding</h2>"
   ]
  },
  {
   "cell_type": "code",
   "execution_count": 74,
   "metadata": {},
   "outputs": [
    {
     "ename": "TypeError",
     "evalue": "generate() missing 1 required positional argument: 'words'",
     "output_type": "error",
     "traceback": [
      "\u001b[0;31m------------------------------------------------------------------------\u001b[0m",
      "\u001b[0;31mTypeError\u001b[0m                              Traceback (most recent call last)",
      "\u001b[0;32m<ipython-input-74-6a0554938f24>\u001b[0m in \u001b[0;36m<module>\u001b[0;34m\u001b[0m\n\u001b[0;32m----> 1\u001b[0;31m \u001b[0mtext1\u001b[0m\u001b[0;34m.\u001b[0m\u001b[0mgenerate\u001b[0m\u001b[0;34m(\u001b[0m\u001b[0;34m)\u001b[0m\u001b[0;34m\u001b[0m\u001b[0;34m\u001b[0m\u001b[0m\n\u001b[0m",
      "\u001b[0;31mTypeError\u001b[0m: generate() missing 1 required positional argument: 'words'"
     ]
    }
   ],
   "source": [
    "text1.generate()"
   ]
  },
  {
   "cell_type": "code",
   "execution_count": null,
   "metadata": {},
   "outputs": [],
   "source": []
  }
 ],
 "metadata": {
  "kernelspec": {
   "display_name": "Python 3",
   "language": "python",
   "name": "python3"
  },
  "language_info": {
   "codemirror_mode": {
    "name": "ipython",
    "version": 3
   },
   "file_extension": ".py",
   "mimetype": "text/x-python",
   "name": "python",
   "nbconvert_exporter": "python",
   "pygments_lexer": "ipython3",
   "version": "3.7.1"
  }
 },
 "nbformat": 4,
 "nbformat_minor": 2
}
