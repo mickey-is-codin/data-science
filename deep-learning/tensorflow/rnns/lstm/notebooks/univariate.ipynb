{
 "cells": [
  {
   "cell_type": "code",
   "execution_count": 58,
   "metadata": {},
   "outputs": [],
   "source": [
    "import numpy as np\n",
    "import pandas as pd\n",
    "import matplotlib.pyplot as plt\n",
    "\n",
    "import tensorflow as tf\n",
    "\n",
    "from tensorflow.keras.models import Sequential\n",
    "from tensorflow.keras.layers import LSTM\n",
    "from tensorflow.keras.layers import Dense\n",
    "\n",
    "tf.random.set_random_seed(13)"
   ]
  },
  {
   "cell_type": "code",
   "execution_count": 59,
   "metadata": {},
   "outputs": [
    {
     "name": "stdout",
     "output_type": "stream",
     "text": [
      "\n",
      "Number of records: 420551\n"
     ]
    },
    {
     "data": {
      "text/html": [
       "<div>\n",
       "<style scoped>\n",
       "    .dataframe tbody tr th:only-of-type {\n",
       "        vertical-align: middle;\n",
       "    }\n",
       "\n",
       "    .dataframe tbody tr th {\n",
       "        vertical-align: top;\n",
       "    }\n",
       "\n",
       "    .dataframe thead th {\n",
       "        text-align: right;\n",
       "    }\n",
       "</style>\n",
       "<table border=\"1\" class=\"dataframe\">\n",
       "  <thead>\n",
       "    <tr style=\"text-align: right;\">\n",
       "      <th></th>\n",
       "      <th>datetime</th>\n",
       "      <th>pressure</th>\n",
       "      <th>temp</th>\n",
       "      <th>t_pot</th>\n",
       "      <th>t_dew</th>\n",
       "      <th>rh</th>\n",
       "      <th>vp_max</th>\n",
       "      <th>vp_act</th>\n",
       "      <th>vp_def</th>\n",
       "      <th>sh</th>\n",
       "      <th>water_c</th>\n",
       "      <th>rho</th>\n",
       "      <th>wv</th>\n",
       "      <th>wv_max</th>\n",
       "      <th>wd</th>\n",
       "    </tr>\n",
       "  </thead>\n",
       "  <tbody>\n",
       "    <tr>\n",
       "      <td>0</td>\n",
       "      <td>01.01.2009 00:10:00</td>\n",
       "      <td>996.52</td>\n",
       "      <td>-8.02</td>\n",
       "      <td>265.40</td>\n",
       "      <td>-8.90</td>\n",
       "      <td>93.3</td>\n",
       "      <td>3.33</td>\n",
       "      <td>3.11</td>\n",
       "      <td>0.22</td>\n",
       "      <td>1.94</td>\n",
       "      <td>3.12</td>\n",
       "      <td>1307.75</td>\n",
       "      <td>1.03</td>\n",
       "      <td>1.75</td>\n",
       "      <td>152.3</td>\n",
       "    </tr>\n",
       "    <tr>\n",
       "      <td>1</td>\n",
       "      <td>01.01.2009 00:20:00</td>\n",
       "      <td>996.57</td>\n",
       "      <td>-8.41</td>\n",
       "      <td>265.01</td>\n",
       "      <td>-9.28</td>\n",
       "      <td>93.4</td>\n",
       "      <td>3.23</td>\n",
       "      <td>3.02</td>\n",
       "      <td>0.21</td>\n",
       "      <td>1.89</td>\n",
       "      <td>3.03</td>\n",
       "      <td>1309.80</td>\n",
       "      <td>0.72</td>\n",
       "      <td>1.50</td>\n",
       "      <td>136.1</td>\n",
       "    </tr>\n",
       "    <tr>\n",
       "      <td>2</td>\n",
       "      <td>01.01.2009 00:30:00</td>\n",
       "      <td>996.53</td>\n",
       "      <td>-8.51</td>\n",
       "      <td>264.91</td>\n",
       "      <td>-9.31</td>\n",
       "      <td>93.9</td>\n",
       "      <td>3.21</td>\n",
       "      <td>3.01</td>\n",
       "      <td>0.20</td>\n",
       "      <td>1.88</td>\n",
       "      <td>3.02</td>\n",
       "      <td>1310.24</td>\n",
       "      <td>0.19</td>\n",
       "      <td>0.63</td>\n",
       "      <td>171.6</td>\n",
       "    </tr>\n",
       "    <tr>\n",
       "      <td>3</td>\n",
       "      <td>01.01.2009 00:40:00</td>\n",
       "      <td>996.51</td>\n",
       "      <td>-8.31</td>\n",
       "      <td>265.12</td>\n",
       "      <td>-9.07</td>\n",
       "      <td>94.2</td>\n",
       "      <td>3.26</td>\n",
       "      <td>3.07</td>\n",
       "      <td>0.19</td>\n",
       "      <td>1.92</td>\n",
       "      <td>3.08</td>\n",
       "      <td>1309.19</td>\n",
       "      <td>0.34</td>\n",
       "      <td>0.50</td>\n",
       "      <td>198.0</td>\n",
       "    </tr>\n",
       "    <tr>\n",
       "      <td>4</td>\n",
       "      <td>01.01.2009 00:50:00</td>\n",
       "      <td>996.51</td>\n",
       "      <td>-8.27</td>\n",
       "      <td>265.15</td>\n",
       "      <td>-9.04</td>\n",
       "      <td>94.1</td>\n",
       "      <td>3.27</td>\n",
       "      <td>3.08</td>\n",
       "      <td>0.19</td>\n",
       "      <td>1.92</td>\n",
       "      <td>3.09</td>\n",
       "      <td>1309.00</td>\n",
       "      <td>0.32</td>\n",
       "      <td>0.63</td>\n",
       "      <td>214.3</td>\n",
       "    </tr>\n",
       "  </tbody>\n",
       "</table>\n",
       "</div>"
      ],
      "text/plain": [
       "              datetime  pressure  temp   t_pot  t_dew    rh  vp_max  vp_act  \\\n",
       "0  01.01.2009 00:10:00    996.52 -8.02  265.40  -8.90  93.3    3.33    3.11   \n",
       "1  01.01.2009 00:20:00    996.57 -8.41  265.01  -9.28  93.4    3.23    3.02   \n",
       "2  01.01.2009 00:30:00    996.53 -8.51  264.91  -9.31  93.9    3.21    3.01   \n",
       "3  01.01.2009 00:40:00    996.51 -8.31  265.12  -9.07  94.2    3.26    3.07   \n",
       "4  01.01.2009 00:50:00    996.51 -8.27  265.15  -9.04  94.1    3.27    3.08   \n",
       "\n",
       "   vp_def    sh  water_c      rho    wv  wv_max     wd  \n",
       "0    0.22  1.94     3.12  1307.75  1.03    1.75  152.3  \n",
       "1    0.21  1.89     3.03  1309.80  0.72    1.50  136.1  \n",
       "2    0.20  1.88     3.02  1310.24  0.19    0.63  171.6  \n",
       "3    0.19  1.92     3.08  1309.19  0.34    0.50  198.0  \n",
       "4    0.19  1.92     3.09  1309.00  0.32    0.63  214.3  "
      ]
     },
     "execution_count": 59,
     "metadata": {},
     "output_type": "execute_result"
    }
   ],
   "source": [
    "data_path  = \"../data/jena_climate_2009_2016.csv\"\n",
    "weather_df = pd.read_csv(data_path)\n",
    "\n",
    "columns = list(weather_df.columns)\n",
    "    \n",
    "new_columns = [\n",
    "    \"datetime\",\n",
    "    \"pressure\",\n",
    "    \"temp\",\n",
    "    \"t_pot\",\n",
    "    \"t_dew\",\n",
    "    \"rh\",\n",
    "    \"vp_max\",\n",
    "    \"vp_act\",\n",
    "    \"vp_def\",\n",
    "    \"sh\",\n",
    "    \"water_c\",\n",
    "    \"rho\",\n",
    "    \"wv\",\n",
    "    \"wv_max\",\n",
    "    \"wd\"\n",
    "] \n",
    "\n",
    "new_col_dict = dict(zip(columns, new_columns))\n",
    "weather_df = weather_df.rename(columns=new_col_dict)\n",
    "\n",
    "print(\"\\nNumber of records: {}\".format(weather_df.shape[0]))\n",
    "\n",
    "weather_df.head()"
   ]
  },
  {
   "cell_type": "code",
   "execution_count": 60,
   "metadata": {},
   "outputs": [],
   "source": [
    "train_split = 300_000"
   ]
  },
  {
   "cell_type": "code",
   "execution_count": 61,
   "metadata": {},
   "outputs": [
    {
     "data": {
      "text/plain": [
       "datetime\n",
       "01.01.2009 00:10:00   -8.02\n",
       "01.01.2009 00:20:00   -8.41\n",
       "01.01.2009 00:30:00   -8.51\n",
       "01.01.2009 00:40:00   -8.31\n",
       "01.01.2009 00:50:00   -8.27\n",
       "Name: temp, dtype: float64"
      ]
     },
     "execution_count": 61,
     "metadata": {},
     "output_type": "execute_result"
    },
    {
     "data": {
      "image/png": "[encoded data removed]",
      "text/plain": [
       "<Figure size 432x288 with 1 Axes>"
      ]
     },
     "metadata": {
      "needs_background": "light"
     },
     "output_type": "display_data"
    }
   ],
   "source": [
    "temp_df = weather_df[\"temp\"]\n",
    "temp_df.index = weather_df[\"datetime\"]\n",
    "temp_data = temp_df.values\n",
    "\n",
    "temp_df.plot(subplots=True)\n",
    "\n",
    "temp_df.head()"
   ]
  },
  {
   "cell_type": "code",
   "execution_count": 62,
   "metadata": {},
   "outputs": [],
   "source": [
    "train_temp_data = temp_data[:train_split]\n",
    "test_temp_data  = temp_data[train_split:]\n",
    "\n",
    "train_mean = train_temp_data.mean()\n",
    "train_std  = train_temp_data.std()\n",
    "\n",
    "norm_data = (temp_data - train_mean) / train_std"
   ]
  },
  {
   "cell_type": "code",
   "execution_count": 63,
   "metadata": {},
   "outputs": [
    {
     "name": "stdout",
     "output_type": "stream",
     "text": [
      "Training data shape: (299980, 20, 1)\n",
      "Validation data shape: (120531, 20, 1)\n"
     ]
    }
   ],
   "source": [
    "history_size = 20\n",
    "target_size  = 0\n",
    "\n",
    "def time_series_split(input_data, start_index, end_index, history_size, target_size):\n",
    "        \n",
    "    data   = []\n",
    "    labels = []\n",
    "    \n",
    "    start_index = start_index + history_size\n",
    "    \n",
    "    if end_index is None:\n",
    "        end_index = len(input_data) - target_size\n",
    "        \n",
    "    for i in range(start_index, end_index):\n",
    "        indices = range(i - history_size, i)\n",
    "        \n",
    "        reshaped_input = np.reshape(input_data[indices], (history_size, 1))\n",
    "        \n",
    "        data.append(reshaped_input)\n",
    "        labels.append(input_data[i + target_size])\n",
    "    \n",
    "    return np.array(data), np.array(labels)\n",
    "\n",
    "X_train, y_train = time_series_split(\n",
    "    input_data=norm_data,\n",
    "    start_index=0,\n",
    "    end_index=train_split,\n",
    "    history_size=history_size,\n",
    "    target_size=target_size\n",
    ")\n",
    "\n",
    "X_test, y_test = time_series_split(\n",
    "    input_data=norm_data,\n",
    "    start_index=train_split,\n",
    "    end_index=None,\n",
    "    history_size=history_size,\n",
    "    target_size=target_size\n",
    ")\n",
    "\n",
    "print(\"Training data shape: {}\".format(X_train.shape))\n",
    "print(\"Validation data shape: {}\".format(X_test.shape))"
   ]
  },
  {
   "cell_type": "code",
   "execution_count": 64,
   "metadata": {},
   "outputs": [
    {
     "name": "stdout",
     "output_type": "stream",
     "text": [
      "Single window of past history\n",
      "[[-1.99766294]\n",
      " [-2.04281897]\n",
      " [-2.05439744]\n",
      " [-2.0312405 ]\n",
      " [-2.02660912]\n",
      " [-2.00113649]\n",
      " [-1.95134907]\n",
      " [-1.95134907]\n",
      " [-1.98492663]\n",
      " [-2.04513467]\n",
      " [-2.08334362]\n",
      " [-2.09723778]\n",
      " [-2.09376424]\n",
      " [-2.09144854]\n",
      " [-2.07176515]\n",
      " [-2.07176515]\n",
      " [-2.07639653]\n",
      " [-2.08913285]\n",
      " [-2.09260639]\n",
      " [-2.10418486]]\n",
      "\n",
      " Target temperature to predict\n",
      "-2.1041848598100876\n"
     ]
    }
   ],
   "source": [
    "print ('Single window of past history')\n",
    "print (X_train[0])\n",
    "print ('\\n Target temperature to predict')\n",
    "print (y_train[0])"
   ]
  },
  {
   "cell_type": "code",
   "execution_count": 65,
   "metadata": {},
   "outputs": [
    {
     "data": {
      "text/plain": [
       "<module 'matplotlib.pyplot' from '/home/mickey/.pyenv/versions/tensorflow/lib/python3.6/site-packages/matplotlib/pyplot.py'>"
      ]
     },
     "execution_count": 65,
     "metadata": {},
     "output_type": "execute_result"
    },
    {
     "data": {
      "image/png": "[encoded data removed]",
      "text/plain": [
       "<Figure size 432x288 with 1 Axes>"
      ]
     },
     "metadata": {
      "needs_background": "light"
     },
     "output_type": "display_data"
    }
   ],
   "source": [
    "def create_time_steps(length):\n",
    "    time_steps = []\n",
    "    for i in range(-length,0,1):\n",
    "        time_steps.append(i)\n",
    "    return time_steps\n",
    "\n",
    "def show_history_plot(plot_data, delta, title):\n",
    "    labels  = [\"History\", \"True Future\", \"Model Prediction\"]\n",
    "    markers = [\".-\", \"rx\", \"go\"]\n",
    "    \n",
    "    time_steps = create_time_steps(plot_data[0].shape[0])\n",
    "    \n",
    "    if delta:\n",
    "        future = delta\n",
    "    else:\n",
    "        future = 0\n",
    "        \n",
    "    plt.title(title)\n",
    "    \n",
    "    for i, x in enumerate(plot_data):\n",
    "        if i:\n",
    "            plt.plot(\n",
    "                future,\n",
    "                plot_data[i],\n",
    "                markers[i],\n",
    "                markersize=10,\n",
    "                label=labels[i]\n",
    "            )\n",
    "        else:\n",
    "            plt.plot(\n",
    "                time_steps,\n",
    "                plot_data[i].flatten(),\n",
    "                markers[i],\n",
    "                label=labels[i]\n",
    "            )\n",
    "        \n",
    "    plt.legend()\n",
    "    plt.xlim([time_steps[0], (future+5)*2])\n",
    "    plt.xlabel(\"Time Step\")\n",
    "    \n",
    "    return plt\n",
    "\n",
    "show_history_plot([X_train[0], y_train[0]], 0, \"Sample Example\")"
   ]
  },
  {
   "cell_type": "code",
   "execution_count": 66,
   "metadata": {},
   "outputs": [
    {
     "data": {
      "text/plain": [
       "<module 'matplotlib.pyplot' from '/home/mickey/.pyenv/versions/tensorflow/lib/python3.6/site-packages/matplotlib/pyplot.py'>"
      ]
     },
     "execution_count": 66,
     "metadata": {},
     "output_type": "execute_result"
    },
    {
     "data": {
      "image/png": "[encoded data removed]",
      "text/plain": [
       "<Figure size 432x288 with 1 Axes>"
      ]
     },
     "metadata": {
      "needs_background": "light"
     },
     "output_type": "display_data"
    }
   ],
   "source": [
    "def baseline(history):\n",
    "    return np.mean(history)\n",
    "\n",
    "show_history_plot([X_train[0], y_train[0], baseline(X_train[0])] , 0, \"Baseline Prediction\")"
   ]
  },
  {
   "cell_type": "code",
   "execution_count": 67,
   "metadata": {},
   "outputs": [],
   "source": [
    "batch_size = 256\n",
    "buffer_size = 10000\n",
    "\n",
    "train_dataset = tf.data.Dataset.from_tensor_slices((X_train, y_train))\n",
    "train_dataset = train_dataset.cache().shuffle(buffer_size).batch(batch_size).repeat()\n",
    "\n",
    "test_dataset = tf.data.Dataset.from_tensor_slices((X_test, y_test))\n",
    "test_dataset = test_dataset.batch(batch_size).repeat()"
   ]
  },
  {
   "cell_type": "code",
   "execution_count": 68,
   "metadata": {},
   "outputs": [],
   "source": [
    "lstm_model = Sequential([\n",
    "    LSTM(8, input_shape=X_train.shape[-2:]),\n",
    "    Dense(1)\n",
    "])\n",
    "\n",
    "lstm_model.compile(optimizer=\"adam\", loss=\"mse\")"
   ]
  },
  {
   "cell_type": "code",
   "execution_count": 73,
   "metadata": {},
   "outputs": [
    {
     "name": "stdout",
     "output_type": "stream",
     "text": [
      "(120531, 1)\n"
     ]
    }
   ],
   "source": [
    "predictions = lstm_model.predict(X_test)\n",
    "print(predictions.shape)"
   ]
  },
  {
   "cell_type": "code",
   "execution_count": 76,
   "metadata": {},
   "outputs": [
    {
     "name": "stdout",
     "output_type": "stream",
     "text": [
      "Epoch 1/10\n",
      "200/200 [==============================] - 7s 36ms/step - loss: 0.2347 - val_loss: 0.0153\n",
      "Epoch 2/10\n",
      "200/200 [==============================] - 3s 17ms/step - loss: 0.0360 - val_loss: 0.0027\n",
      "Epoch 3/10\n",
      "200/200 [==============================] - 3s 17ms/step - loss: 0.0087 - val_loss: 0.0021\n",
      "Epoch 4/10\n",
      "200/200 [==============================] - 4s 20ms/step - loss: 0.0122 - val_loss: 0.0018\n",
      "Epoch 5/10\n",
      "200/200 [==============================] - 4s 19ms/step - loss: 0.0028 - val_loss: 0.0014\n",
      "Epoch 6/10\n",
      "200/200 [==============================] - 4s 18ms/step - loss: 0.0037 - val_loss: 0.0013\n",
      "Epoch 7/10\n",
      "200/200 [==============================] - 3s 16ms/step - loss: 0.0032 - val_loss: 0.0013\n",
      "Epoch 8/10\n",
      "200/200 [==============================] - 3s 16ms/step - loss: 0.0025 - val_loss: 0.0012\n",
      "Epoch 9/10\n",
      "200/200 [==============================] - 3s 15ms/step - loss: 0.0026 - val_loss: 0.0012\n",
      "Epoch 10/10\n",
      "200/200 [==============================] - 3s 15ms/step - loss: 0.0022 - val_loss: 0.0011\n"
     ]
    },
    {
     "data": {
      "text/plain": [
       "<tensorflow.python.keras.callbacks.History at 0x7fe2aefde6d8>"
      ]
     },
     "execution_count": 76,
     "metadata": {},
     "output_type": "execute_result"
    }
   ],
   "source": [
    "eval_interval = 200\n",
    "epochs = 10\n",
    "\n",
    "lstm_model.fit(\n",
    "    train_dataset,\n",
    "    epochs=epochs,\n",
    "    steps_per_epoch=eval_interval,\n",
    "    validation_data=test_dataset,\n",
    "    validation_steps=50\n",
    ")"
   ]
  },
  {
   "cell_type": "code",
   "execution_count": 86,
   "metadata": {},
   "outputs": [
    {
     "data": {
      "text/plain": [
       "<module 'matplotlib.pyplot' from '/home/mickey/.pyenv/versions/tensorflow/lib/python3.6/site-packages/matplotlib/pyplot.py'>"
      ]
     },
     "execution_count": 86,
     "metadata": {},
     "output_type": "execute_result"
    },
    {
     "data": {
      "image/png": "[encoded data removed]",
      "text/plain": [
       "<Figure size 432x288 with 1 Axes>"
      ]
     },
     "metadata": {
      "needs_background": "light"
     },
     "output_type": "display_data"
    }
   ],
   "source": [
    "predictions = lstm_model.predict(X_test)\n",
    "\n",
    "show_history_plot([X_test[100], y_test[100], predictions[100]] , 0, \"Model Results\")"
   ]
  },
  {
   "cell_type": "code",
   "execution_count": null,
   "metadata": {},
   "outputs": [],
   "source": []
  }
 ],
 "metadata": {
  "kernelspec": {
   "display_name": "tensorflow",
   "language": "python",
   "name": "tensorflow"
  },
  "language_info": {
   "codemirror_mode": {
    "name": "ipython",
    "version": 3
   },
   "file_extension": ".py",
   "mimetype": "text/x-python",
   "name": "python",
   "nbconvert_exporter": "python",
   "pygments_lexer": "ipython3",
   "version": "3.6.5"
  }
 },
 "nbformat": 4,
 "nbformat_minor": 2
}
