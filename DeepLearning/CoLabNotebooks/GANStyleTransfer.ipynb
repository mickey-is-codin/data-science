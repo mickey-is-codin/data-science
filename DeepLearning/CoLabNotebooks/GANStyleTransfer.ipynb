{
  "nbformat": 4,
  "nbformat_minor": 0,
  "metadata": {
    "colab": {
      "name": "GANStyleTransfer.ipynb",
      "version": "0.3.2",
      "provenance": [],
      "collapsed_sections": []
    },
    "kernelspec": {
      "name": "python3",
      "display_name": "Python 3"
    },
    "accelerator": "GPU"
  },
  "cells": [
    {
      "cell_type": "code",
      "metadata": {
        "id": "O5SpYxODy29l",
        "colab_type": "code",
        "colab": {}
      },
      "source": [
        "import os\n",
        "import sys\n",
        "os.environ['TF_CPP_MIN_LOG_LEVEL'] = '2'\n",
        "\n",
        "import numpy as np\n",
        "import matplotlib.pyplot as plt\n",
        "\n",
        "import cv2\n",
        "import PIL\n",
        "\n",
        "import tensorflow as tf\n",
        "tf.logging.set_verbosity(tf.logging.ERROR)\n",
        "\n",
        "import keras\n",
        "from keras import backend as K\n",
        "from keras.applications import VGG16\n",
        "from keras.applications.vgg16 import preprocess_input\n",
        "from keras.preprocessing.image import load_img, img_to_array\n",
        "\n",
        "from scipy.optimize import fmin_l_bfgs_b\n",
        "\n",
        "import ssl\n",
        "ssl._create_default_https_context = ssl._create_unverified_context"
      ],
      "execution_count": 0,
      "outputs": []
    },
    {
      "cell_type": "code",
      "metadata": {
        "id": "k0pmJqwczd1n",
        "colab_type": "code",
        "colab": {
          "base_uri": "https://localhost:8080/",
          "height": 35
        },
        "outputId": "3b4aa904-a318-4073-9225-6f75e08bd4f7"
      },
      "source": [
        "!ls drive/My\\ Drive/CoLab\\ Resources/GANStyleTransfer"
      ],
      "execution_count": 54,
      "outputs": [
        {
          "output_type": "stream",
          "text": [
            "medieval_style_image.jpg  mickey_matt.JPG  result_image.jpg\n"
          ],
          "name": "stdout"
        }
      ]
    },
    {
      "cell_type": "code",
      "metadata": {
        "id": "R2D7Afvdy6-G",
        "colab_type": "code",
        "colab": {}
      },
      "source": [
        "def get_feature_reps(x, layer_names, model):\n",
        "\n",
        "    feature_matrices = []\n",
        "\n",
        "    for ln in layer_names:\n",
        "        selected_layer = model.get_layer(ln)\n",
        "\n",
        "        feature_raw = selected_layer.output\n",
        "        feature_raw_shape = K.shape(feature_raw).eval(session=tf_session)\n",
        "\n",
        "        N_l = feature_raw_shape[-1]\n",
        "        M_l = feature_raw_shape[1] * feature_raw_shape[2]\n",
        "\n",
        "        feature_matrix = K.reshape(feature_raw, (M_l, N_l))\n",
        "        feature_matrix = K.transpose(feature_matrix)\n",
        "\n",
        "        feature_matrices.append(feature_matrix)\n",
        "\n",
        "    return feature_matrices"
      ],
      "execution_count": 0,
      "outputs": []
    },
    {
      "cell_type": "code",
      "metadata": {
        "id": "lCxU4U6Xy82l",
        "colab_type": "code",
        "colab": {}
      },
      "source": [
        "def get_content_loss(F, P):\n",
        "    return 0.5 * K.sum(K.square(F - P))\n",
        "\n",
        "def get_gram_matrix(F):\n",
        "    return K.dot(F, K.transpose(F))\n",
        "\n",
        "def get_style_loss(ws, Gs, As):\n",
        "\n",
        "    style_loss = K.variable(0.)\n",
        "\n",
        "    for w, G, A in zip(ws, Gs, As):\n",
        "\n",
        "        M_l = K.int_shape(G)[1]\n",
        "        N_l = K.int_shape(G)[0]\n",
        "\n",
        "        G_gram = get_gram_matrix(G)\n",
        "        A_gram = get_gram_matrix(A)\n",
        "\n",
        "        style_loss += w * 0.25 * K.sum(K.square( G_gram - A_gram) / (N_l**2 * M_l**2) )\n",
        "\n",
        "    return style_loss\n",
        "\n",
        "def get_total_loss(g_img_placeholder, alpha=1.0, beta=10000.0):\n",
        "\n",
        "    F = get_feature_reps(\n",
        "        g_img_placeholder,\n",
        "        layer_names=[c_layer_name],\n",
        "        model=g_model\n",
        "    )[0]\n",
        "\n",
        "    Gs = get_feature_reps(\n",
        "        g_img_placeholder,\n",
        "        layer_names=s_layer_names,\n",
        "        model=g_model\n",
        "    )\n",
        "\n",
        "    content_loss = get_content_loss(F, P)\n",
        "    style_loss = get_style_loss(ws, Gs, As)\n",
        "    total_loss = alpha * content_loss + beta * style_loss\n",
        "\n",
        "    return total_loss\n",
        "\n",
        "def calculate_loss(g_img_array):\n",
        "\n",
        "    if g_img_array.shape != (1, target_width, target_width, 3):\n",
        "        g_img_array = g_img_array.reshape((1, target_width, target_height, 3))\n",
        "\n",
        "    loss_fn = K.function([g_model.input], [get_total_loss(g_model.input)])\n",
        "\n",
        "    return loss_fn([g_img_array])[0].astype('float64')"
      ],
      "execution_count": 0,
      "outputs": []
    },
    {
      "cell_type": "code",
      "metadata": {
        "id": "IXDw1y_xy_r1",
        "colab_type": "code",
        "colab": {}
      },
      "source": [
        "def get_grad(g_img_array):\n",
        "\n",
        "    if g_img_array.shape != (1, target_width, target_height, 3):\n",
        "        g_img_array = g_img_array.reshape((1, target_width, target_height, 3))\n",
        "\n",
        "    grad_fn = K.function(\n",
        "        [g_model.input],\n",
        "        K.gradients(\n",
        "            get_total_loss(g_model.input),\n",
        "            [g_model.input]\n",
        "        )\n",
        "    )\n",
        "\n",
        "    grad = grad_fn([g_img_array])[0].flatten().astype('float64')\n",
        "\n",
        "    return grad"
      ],
      "execution_count": 0,
      "outputs": []
    },
    {
      "cell_type": "code",
      "metadata": {
        "id": "W6bqHf_ozBfU",
        "colab_type": "code",
        "colab": {}
      },
      "source": [
        "def postprocess_array(x):\n",
        "    # Zero-center by mean pixel\n",
        "    if x.shape != (target_width, target_height, 3):\n",
        "        x = x.reshape((target_width, target_height, 3))\n",
        "    x[..., 0] += 103.939\n",
        "    x[..., 1] += 116.779\n",
        "    x[..., 2] += 123.68\n",
        "    # 'BGR'->'RGB'\n",
        "    x = x[..., ::-1]\n",
        "    x = np.clip(x, 0, 255)\n",
        "    x = x.astype('uint8')\n",
        "    return x"
      ],
      "execution_count": 0,
      "outputs": []
    },
    {
      "cell_type": "code",
      "metadata": {
        "id": "UlpI9z2AzC4M",
        "colab_type": "code",
        "colab": {}
      },
      "source": [
        "target_width  = 512\n",
        "target_height = 512\n",
        "target_size = (target_width, target_height)\n",
        "\n",
        "style_path = '/content/drive/My Drive/CoLab Resources/GANStyleTransfer/medieval_style_image.jpg'\n",
        "content_path = '/content/drive/My Drive/CoLab Resources/GANStyleTransfer/mickey_matt.JPG'\n",
        "generated_path = '/content/drive/My Drive/CoLab Resources/GANStyleTransfer/result_image.jpg'\n",
        "\n",
        "c_img = load_img(path=content_path, target_size=target_size)\n",
        "c_img_array = np.expand_dims(img_to_array(c_img), axis=0)\n",
        "c_img_array = K.variable(preprocess_input(c_img_array), dtype='float32')\n",
        "\n",
        "s_img = load_img(path=style_path, target_size=target_size)\n",
        "s_img_array = np.expand_dims(img_to_array(s_img), axis=0)\n",
        "s_img_array = K.variable(preprocess_input(s_img_array), dtype='float32')\n",
        "\n",
        "g_img0 = np.random.randint(\n",
        "    256,\n",
        "    size=(target_width, target_height, 3)\n",
        ").astype('float64')\n",
        "g_img0 = preprocess_input(np.expand_dims(g_img0, axis=0))\n",
        "g_img_placeholder = K.placeholder(shape=(1, target_width, target_height, 3))"
      ],
      "execution_count": 0,
      "outputs": []
    },
    {
      "cell_type": "code",
      "metadata": {
        "id": "bLTvJxg0zFq0",
        "colab_type": "code",
        "colab": {}
      },
      "source": [
        "tf_session = K.get_session()\n",
        "\n",
        "c_model = VGG16(include_top=False, weights='imagenet', input_tensor=c_img_array)\n",
        "s_model = VGG16(include_top=False, weights='imagenet', input_tensor=s_img_array)\n",
        "g_model = VGG16(include_top=False, weights='imagenet', input_tensor=g_img_placeholder)\n",
        "\n",
        "c_layer_name = 'block4_conv2'\n",
        "s_layer_names = [\n",
        "    'block1_conv1',\n",
        "    'block2_conv1',\n",
        "    'block3_conv1',\n",
        "    'block4_conv1'\n",
        "]\n",
        "\n",
        "P = get_feature_reps(\n",
        "    x=c_img_array,\n",
        "    layer_names=[c_layer_name],\n",
        "    model=c_model\n",
        ")[0]\n",
        "As = get_feature_reps(\n",
        "    x=s_img_array,\n",
        "    layer_names=s_layer_names,\n",
        "    model=s_model\n",
        ")\n",
        "ws = np.ones(len(s_layer_names)) / float(len(s_layer_names))\n",
        "\n",
        "iterations = 50\n",
        "\n",
        "x_val = g_img0.flatten()\n",
        "xopt, fval, info = fmin_l_bfgs_b(\n",
        "    calculate_loss,\n",
        "    x_val,\n",
        "    fprime=get_grad,\n",
        "    maxiter=iterations,\n",
        "    disp=True\n",
        ")\n",
        "\n",
        "x_out = postprocess_array(xopt)\n",
        "x_img = PIL.Image.fromarray(x_out)\n",
        "x_img.save(generated_path)"
      ],
      "execution_count": 0,
      "outputs": []
    },
    {
      "cell_type": "code",
      "metadata": {
        "id": "zBpcj7J42C87",
        "colab_type": "code",
        "colab": {}
      },
      "source": [
        "from IPython.display import Image\n",
        "Image(filename='/content/drive/My Drive/CoLab Resources/GANStyleTransfer/result_image.jpg') "
      ],
      "execution_count": 0,
      "outputs": []
    },
    {
      "cell_type": "code",
      "metadata": {
        "id": "rA21U2nb2Fwg",
        "colab_type": "code",
        "colab": {}
      },
      "source": [
        ""
      ],
      "execution_count": 0,
      "outputs": []
    }
  ]
}