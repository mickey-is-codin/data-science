{
 "cells": [
  {
   "cell_type": "markdown",
   "metadata": {},
   "source": [
    "<h1> Electric Motor Dataset Analysis </h1>\n",
    "\n",
    "<p>Introductory analysis for Kaggle <a href=\"https://www.kaggle.com/wkirgsn/electric-motor-temperature\">Electric Motor Temperature</a> dataset. We'll see if we can parse out any useful information in a couple of notebooks and then hopefully create some sort of CLI program eventually.</p>"
   ]
  },
  {
   "cell_type": "code",
   "execution_count": null,
   "metadata": {},
   "outputs": [],
   "source": []
  }
 ],
 "metadata": {
  "kernelspec": {
   "display_name": "Python 3",
   "language": "python",
   "name": "python3"
  },
  "language_info": {
   "codemirror_mode": {
    "name": "ipython",
    "version": 3
   },
   "file_extension": ".py",
   "mimetype": "text/x-python",
   "name": "python",
   "nbconvert_exporter": "python",
   "pygments_lexer": "ipython3",
   "version": "3.6.8"
  }
 },
 "nbformat": 4,
 "nbformat_minor": 2
}
