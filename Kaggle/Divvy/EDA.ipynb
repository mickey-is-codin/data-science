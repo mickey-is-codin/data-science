{
 "cells": [
  {
   "cell_type": "markdown",
   "metadata": {},
   "source": [
    "# Chicago Divvy Bike Ride-Sharing Analysis\n",
    "\n",
    "![alt text](images/divvy.jpg)\n",
    "![alt_text](images/divvy_map.jpg)\n",
    "\n",
    "### Introduction\n",
    "This notebook is based on the [Divvy Ride-Sharing Kaggle dataset and competition](https://www.kaggle.com/yingwurenjian/chicago-divvy-bicycle-sharing-data) for Divvy bike rides in Chicago, IL. It's a re-creation of a program I created about a year ago that was lost when a hard drive died and I've since learned my lesson so this is going straight to git. Some of the features of the previous program will be implemented but I really want to try to divide the notebooks more atomically so that each serves a pretty specific purpose and doesn't have too large of scope. \n",
    "\n",
    "### Goals of the Notebook\n",
    " * Conditionally split dataset\n",
    " * Determine which stations are busiest/where they usually lead to\n",
    " * Show distributions of the data, branch out with Seaborn library\n",
    " * Map rides using Basemap--really improve my skills with that\n",
    " * Perform machine learning and create models using Scikit-Learn\n",
    " "
   ]
  },
  {
   "cell_type": "markdown",
   "metadata": {},
   "source": [
    "### Importing \n",
    "Just a typical data science library stack for the EDA notebook."
   ]
  },
  {
   "cell_type": "code",
   "execution_count": 34,
   "metadata": {},
   "outputs": [],
   "source": [
    "import random\n",
    "\n",
    "import numpy   as np\n",
    "import pandas  as pd\n",
    "import seaborn as sns\n",
    "import matplotlib.pyplot as plt\n",
    "\n",
    "sns.set(rc={'figure.figsize':(15, 15)})"
   ]
  },
  {
   "cell_type": "markdown",
   "metadata": {},
   "source": [
    "### CSV File Exploration and Importing\n",
    "\n",
    "The first thing we'll do is peer into the csv files provided by Kaggle to see what kind of data we're looking at. Since the data is incredibly large (don't have a week for operating on 9 million divvy bike rides), for this stage of the analysis we'll just take a random sampling from the data.\n",
    "\n",
    "To randomize the import I'm just going to retrieve every 1/n lines from the file. "
   ]
  },
  {
   "cell_type": "code",
   "execution_count": 29,
   "metadata": {},
   "outputs": [
    {
     "name": "stdout",
     "output_type": "stream",
     "text": [
      " 9495236 105797302 2084674565 data/data.csv\n",
      " 13774716 160096066 3483195736 data/data_raw.csv\n"
     ]
    }
   ],
   "source": [
    "!wc data/data.csv\n",
    "!wc data/data_raw.csv"
   ]
  },
  {
   "cell_type": "code",
   "execution_count": 5,
   "metadata": {},
   "outputs": [
    {
     "name": "stdout",
     "output_type": "stream",
     "text": [
      "There are 189904 rows in the dataset\n",
      "Columns in List: \n",
      "\n",
      "trip_id\n",
      "year\n",
      "month\n",
      "week\n",
      "day\n",
      "hour\n",
      "usertype\n",
      "gender\n",
      "starttime\n",
      "stoptime\n",
      "tripduration\n",
      "temperature\n",
      "events\n",
      "from_station_id\n",
      "from_station_name\n",
      "latitude_start\n",
      "longitude_start\n",
      "dpcapacity_start\n",
      "to_station_id\n",
      "to_station_name\n",
      "latitude_end\n",
      "longitude_end\n",
      "dpcapacity_end\n"
     ]
    }
   ],
   "source": [
    "n = 50\n",
    "\n",
    "csv_filename = 'data/data.csv'\n",
    "num_lines = sum(1 for l in open(csv_filename))\n",
    "\n",
    "skip_ix = [x for x in range(1, num_lines) if x % n != 0]\n",
    "\n",
    "data_df = pd.read_csv(\n",
    "    csv_filename,\n",
    "    skiprows=skip_ix\n",
    ")\n",
    "\n",
    "print('There are {} rows in the dataset'.format(data_df.shape[0]))\n",
    "\n",
    "print(\"Columns in List: \\n\")\n",
    "for column in list(data_df):\n",
    "    print(column)"
   ]
  },
  {
   "cell_type": "code",
   "execution_count": 6,
   "metadata": {},
   "outputs": [
    {
     "data": {
      "text/html": [
       "<div>\n",
       "<style scoped>\n",
       "    .dataframe tbody tr th:only-of-type {\n",
       "        vertical-align: middle;\n",
       "    }\n",
       "\n",
       "    .dataframe tbody tr th {\n",
       "        vertical-align: top;\n",
       "    }\n",
       "\n",
       "    .dataframe thead th {\n",
       "        text-align: right;\n",
       "    }\n",
       "</style>\n",
       "<table border=\"1\" class=\"dataframe\">\n",
       "  <thead>\n",
       "    <tr style=\"text-align: right;\">\n",
       "      <th></th>\n",
       "      <th>trip_id</th>\n",
       "      <th>year</th>\n",
       "      <th>month</th>\n",
       "      <th>week</th>\n",
       "      <th>day</th>\n",
       "      <th>hour</th>\n",
       "      <th>usertype</th>\n",
       "      <th>gender</th>\n",
       "      <th>starttime</th>\n",
       "      <th>stoptime</th>\n",
       "      <th>...</th>\n",
       "      <th>from_station_id</th>\n",
       "      <th>from_station_name</th>\n",
       "      <th>latitude_start</th>\n",
       "      <th>longitude_start</th>\n",
       "      <th>dpcapacity_start</th>\n",
       "      <th>to_station_id</th>\n",
       "      <th>to_station_name</th>\n",
       "      <th>latitude_end</th>\n",
       "      <th>longitude_end</th>\n",
       "      <th>dpcapacity_end</th>\n",
       "    </tr>\n",
       "  </thead>\n",
       "  <tbody>\n",
       "    <tr>\n",
       "      <th>0</th>\n",
       "      <td>2355000</td>\n",
       "      <td>2014</td>\n",
       "      <td>6</td>\n",
       "      <td>27</td>\n",
       "      <td>0</td>\n",
       "      <td>21</td>\n",
       "      <td>Subscriber</td>\n",
       "      <td>Male</td>\n",
       "      <td>2014-06-30 21:11:00</td>\n",
       "      <td>2014-06-30 21:26:00</td>\n",
       "      <td>...</td>\n",
       "      <td>71</td>\n",
       "      <td>Morgan St &amp; Lake St</td>\n",
       "      <td>41.885483</td>\n",
       "      <td>-87.652305</td>\n",
       "      <td>15.0</td>\n",
       "      <td>130</td>\n",
       "      <td>Damen Ave &amp; Division St</td>\n",
       "      <td>41.903310</td>\n",
       "      <td>-87.676950</td>\n",
       "      <td>15.0</td>\n",
       "    </tr>\n",
       "    <tr>\n",
       "      <th>1</th>\n",
       "      <td>2354778</td>\n",
       "      <td>2014</td>\n",
       "      <td>6</td>\n",
       "      <td>27</td>\n",
       "      <td>0</td>\n",
       "      <td>20</td>\n",
       "      <td>Subscriber</td>\n",
       "      <td>Male</td>\n",
       "      <td>2014-06-30 20:18:00</td>\n",
       "      <td>2014-06-30 20:27:00</td>\n",
       "      <td>...</td>\n",
       "      <td>195</td>\n",
       "      <td>Columbus Dr &amp; Randolph St</td>\n",
       "      <td>41.884728</td>\n",
       "      <td>-87.619521</td>\n",
       "      <td>31.0</td>\n",
       "      <td>91</td>\n",
       "      <td>Clinton St &amp; Washington Blvd</td>\n",
       "      <td>41.883380</td>\n",
       "      <td>-87.641170</td>\n",
       "      <td>31.0</td>\n",
       "    </tr>\n",
       "    <tr>\n",
       "      <th>2</th>\n",
       "      <td>2354681</td>\n",
       "      <td>2014</td>\n",
       "      <td>6</td>\n",
       "      <td>27</td>\n",
       "      <td>0</td>\n",
       "      <td>19</td>\n",
       "      <td>Subscriber</td>\n",
       "      <td>Male</td>\n",
       "      <td>2014-06-30 19:17:00</td>\n",
       "      <td>2014-06-30 19:24:00</td>\n",
       "      <td>...</td>\n",
       "      <td>289</td>\n",
       "      <td>Wells St &amp; Concord Ln</td>\n",
       "      <td>41.912202</td>\n",
       "      <td>-87.634664</td>\n",
       "      <td>19.0</td>\n",
       "      <td>337</td>\n",
       "      <td>Clark St &amp; Chicago Ave</td>\n",
       "      <td>41.896544</td>\n",
       "      <td>-87.630931</td>\n",
       "      <td>19.0</td>\n",
       "    </tr>\n",
       "    <tr>\n",
       "      <th>3</th>\n",
       "      <td>2354584</td>\n",
       "      <td>2014</td>\n",
       "      <td>6</td>\n",
       "      <td>27</td>\n",
       "      <td>0</td>\n",
       "      <td>19</td>\n",
       "      <td>Subscriber</td>\n",
       "      <td>Male</td>\n",
       "      <td>2014-06-30 19:07:00</td>\n",
       "      <td>2014-06-30 19:16:00</td>\n",
       "      <td>...</td>\n",
       "      <td>195</td>\n",
       "      <td>Columbus Dr &amp; Randolph St</td>\n",
       "      <td>41.884728</td>\n",
       "      <td>-87.619521</td>\n",
       "      <td>31.0</td>\n",
       "      <td>195</td>\n",
       "      <td>Columbus Dr &amp; Randolph St</td>\n",
       "      <td>41.884728</td>\n",
       "      <td>-87.619521</td>\n",
       "      <td>31.0</td>\n",
       "    </tr>\n",
       "    <tr>\n",
       "      <th>4</th>\n",
       "      <td>2354496</td>\n",
       "      <td>2014</td>\n",
       "      <td>6</td>\n",
       "      <td>27</td>\n",
       "      <td>0</td>\n",
       "      <td>18</td>\n",
       "      <td>Subscriber</td>\n",
       "      <td>Male</td>\n",
       "      <td>2014-06-30 18:57:00</td>\n",
       "      <td>2014-06-30 19:03:00</td>\n",
       "      <td>...</td>\n",
       "      <td>86</td>\n",
       "      <td>Eckhart Park</td>\n",
       "      <td>41.896373</td>\n",
       "      <td>-87.660984</td>\n",
       "      <td>15.0</td>\n",
       "      <td>48</td>\n",
       "      <td>Larrabee St &amp; Kingsbury St</td>\n",
       "      <td>41.897764</td>\n",
       "      <td>-87.642884</td>\n",
       "      <td>27.0</td>\n",
       "    </tr>\n",
       "  </tbody>\n",
       "</table>\n",
       "<p>5 rows × 23 columns</p>\n",
       "</div>"
      ],
      "text/plain": [
       "   trip_id  year  month  week  day  hour    usertype gender  \\\n",
       "0  2355000  2014      6    27    0    21  Subscriber   Male   \n",
       "1  2354778  2014      6    27    0    20  Subscriber   Male   \n",
       "2  2354681  2014      6    27    0    19  Subscriber   Male   \n",
       "3  2354584  2014      6    27    0    19  Subscriber   Male   \n",
       "4  2354496  2014      6    27    0    18  Subscriber   Male   \n",
       "\n",
       "             starttime             stoptime  ...  from_station_id  \\\n",
       "0  2014-06-30 21:11:00  2014-06-30 21:26:00  ...               71   \n",
       "1  2014-06-30 20:18:00  2014-06-30 20:27:00  ...              195   \n",
       "2  2014-06-30 19:17:00  2014-06-30 19:24:00  ...              289   \n",
       "3  2014-06-30 19:07:00  2014-06-30 19:16:00  ...              195   \n",
       "4  2014-06-30 18:57:00  2014-06-30 19:03:00  ...               86   \n",
       "\n",
       "           from_station_name latitude_start  longitude_start dpcapacity_start  \\\n",
       "0        Morgan St & Lake St      41.885483       -87.652305             15.0   \n",
       "1  Columbus Dr & Randolph St      41.884728       -87.619521             31.0   \n",
       "2      Wells St & Concord Ln      41.912202       -87.634664             19.0   \n",
       "3  Columbus Dr & Randolph St      41.884728       -87.619521             31.0   \n",
       "4               Eckhart Park      41.896373       -87.660984             15.0   \n",
       "\n",
       "   to_station_id               to_station_name  latitude_end  longitude_end  \\\n",
       "0            130       Damen Ave & Division St     41.903310     -87.676950   \n",
       "1             91  Clinton St & Washington Blvd     41.883380     -87.641170   \n",
       "2            337        Clark St & Chicago Ave     41.896544     -87.630931   \n",
       "3            195     Columbus Dr & Randolph St     41.884728     -87.619521   \n",
       "4             48    Larrabee St & Kingsbury St     41.897764     -87.642884   \n",
       "\n",
       "  dpcapacity_end  \n",
       "0           15.0  \n",
       "1           31.0  \n",
       "2           19.0  \n",
       "3           31.0  \n",
       "4           27.0  \n",
       "\n",
       "[5 rows x 23 columns]"
      ]
     },
     "execution_count": 6,
     "metadata": {},
     "output_type": "execute_result"
    }
   ],
   "source": [
    "data_df.head()"
   ]
  },
  {
   "cell_type": "code",
   "execution_count": 7,
   "metadata": {},
   "outputs": [
    {
     "data": {
      "text/html": [
       "<div>\n",
       "<style scoped>\n",
       "    .dataframe tbody tr th:only-of-type {\n",
       "        vertical-align: middle;\n",
       "    }\n",
       "\n",
       "    .dataframe tbody tr th {\n",
       "        vertical-align: top;\n",
       "    }\n",
       "\n",
       "    .dataframe thead th {\n",
       "        text-align: right;\n",
       "    }\n",
       "</style>\n",
       "<table border=\"1\" class=\"dataframe\">\n",
       "  <thead>\n",
       "    <tr style=\"text-align: right;\">\n",
       "      <th></th>\n",
       "      <th>trip_id</th>\n",
       "      <th>year</th>\n",
       "      <th>month</th>\n",
       "      <th>week</th>\n",
       "      <th>day</th>\n",
       "      <th>hour</th>\n",
       "      <th>tripduration</th>\n",
       "      <th>temperature</th>\n",
       "      <th>from_station_id</th>\n",
       "      <th>latitude_start</th>\n",
       "      <th>longitude_start</th>\n",
       "      <th>dpcapacity_start</th>\n",
       "      <th>to_station_id</th>\n",
       "      <th>latitude_end</th>\n",
       "      <th>longitude_end</th>\n",
       "      <th>dpcapacity_end</th>\n",
       "    </tr>\n",
       "  </thead>\n",
       "  <tbody>\n",
       "    <tr>\n",
       "      <th>count</th>\n",
       "      <td>1.899040e+05</td>\n",
       "      <td>189904.000000</td>\n",
       "      <td>189904.000000</td>\n",
       "      <td>189904.000000</td>\n",
       "      <td>189904.000000</td>\n",
       "      <td>189904.000000</td>\n",
       "      <td>189904.000000</td>\n",
       "      <td>189904.000000</td>\n",
       "      <td>189904.000000</td>\n",
       "      <td>189904.000000</td>\n",
       "      <td>189904.000000</td>\n",
       "      <td>189904.000000</td>\n",
       "      <td>189904.000000</td>\n",
       "      <td>189904.000000</td>\n",
       "      <td>189904.000000</td>\n",
       "      <td>189904.000000</td>\n",
       "    </tr>\n",
       "    <tr>\n",
       "      <th>mean</th>\n",
       "      <td>9.861187e+06</td>\n",
       "      <td>2015.737330</td>\n",
       "      <td>7.161192</td>\n",
       "      <td>29.380655</td>\n",
       "      <td>2.687389</td>\n",
       "      <td>13.626164</td>\n",
       "      <td>11.429583</td>\n",
       "      <td>62.999180</td>\n",
       "      <td>180.196299</td>\n",
       "      <td>41.900249</td>\n",
       "      <td>-87.644710</td>\n",
       "      <td>21.370766</td>\n",
       "      <td>180.894257</td>\n",
       "      <td>41.900749</td>\n",
       "      <td>-87.644933</td>\n",
       "      <td>21.279610</td>\n",
       "    </tr>\n",
       "    <tr>\n",
       "      <th>std</th>\n",
       "      <td>4.680014e+06</td>\n",
       "      <td>1.075629</td>\n",
       "      <td>2.708453</td>\n",
       "      <td>11.779717</td>\n",
       "      <td>1.890319</td>\n",
       "      <td>4.858222</td>\n",
       "      <td>7.201778</td>\n",
       "      <td>17.200129</td>\n",
       "      <td>121.955761</td>\n",
       "      <td>0.034761</td>\n",
       "      <td>0.021745</td>\n",
       "      <td>7.640429</td>\n",
       "      <td>122.450730</td>\n",
       "      <td>0.035061</td>\n",
       "      <td>0.021807</td>\n",
       "      <td>7.587847</td>\n",
       "    </tr>\n",
       "    <tr>\n",
       "      <th>min</th>\n",
       "      <td>1.109555e+06</td>\n",
       "      <td>2014.000000</td>\n",
       "      <td>1.000000</td>\n",
       "      <td>1.000000</td>\n",
       "      <td>0.000000</td>\n",
       "      <td>0.000000</td>\n",
       "      <td>2.000000</td>\n",
       "      <td>-9.900000</td>\n",
       "      <td>2.000000</td>\n",
       "      <td>41.736646</td>\n",
       "      <td>-87.802870</td>\n",
       "      <td>0.000000</td>\n",
       "      <td>2.000000</td>\n",
       "      <td>41.736646</td>\n",
       "      <td>-87.802870</td>\n",
       "      <td>0.000000</td>\n",
       "    </tr>\n",
       "    <tr>\n",
       "      <th>25%</th>\n",
       "      <td>5.941668e+06</td>\n",
       "      <td>2015.000000</td>\n",
       "      <td>5.000000</td>\n",
       "      <td>21.000000</td>\n",
       "      <td>1.000000</td>\n",
       "      <td>9.000000</td>\n",
       "      <td>6.000000</td>\n",
       "      <td>52.000000</td>\n",
       "      <td>77.000000</td>\n",
       "      <td>41.881032</td>\n",
       "      <td>-87.654787</td>\n",
       "      <td>15.000000</td>\n",
       "      <td>77.000000</td>\n",
       "      <td>41.881320</td>\n",
       "      <td>-87.655486</td>\n",
       "      <td>15.000000</td>\n",
       "    </tr>\n",
       "    <tr>\n",
       "      <th>50%</th>\n",
       "      <td>1.005816e+07</td>\n",
       "      <td>2016.000000</td>\n",
       "      <td>7.000000</td>\n",
       "      <td>30.000000</td>\n",
       "      <td>3.000000</td>\n",
       "      <td>15.000000</td>\n",
       "      <td>9.616667</td>\n",
       "      <td>66.900000</td>\n",
       "      <td>164.000000</td>\n",
       "      <td>41.892278</td>\n",
       "      <td>-87.641066</td>\n",
       "      <td>19.000000</td>\n",
       "      <td>164.000000</td>\n",
       "      <td>41.893882</td>\n",
       "      <td>-87.641066</td>\n",
       "      <td>19.000000</td>\n",
       "    </tr>\n",
       "    <tr>\n",
       "      <th>75%</th>\n",
       "      <td>1.383254e+07</td>\n",
       "      <td>2017.000000</td>\n",
       "      <td>9.000000</td>\n",
       "      <td>38.000000</td>\n",
       "      <td>4.000000</td>\n",
       "      <td>17.000000</td>\n",
       "      <td>15.183333</td>\n",
       "      <td>75.900000</td>\n",
       "      <td>268.000000</td>\n",
       "      <td>41.920195</td>\n",
       "      <td>-87.629928</td>\n",
       "      <td>23.000000</td>\n",
       "      <td>273.000000</td>\n",
       "      <td>41.921750</td>\n",
       "      <td>-87.630585</td>\n",
       "      <td>23.000000</td>\n",
       "    </tr>\n",
       "    <tr>\n",
       "      <th>max</th>\n",
       "      <td>1.753670e+07</td>\n",
       "      <td>2017.000000</td>\n",
       "      <td>12.000000</td>\n",
       "      <td>53.000000</td>\n",
       "      <td>6.000000</td>\n",
       "      <td>23.000000</td>\n",
       "      <td>60.000000</td>\n",
       "      <td>95.000000</td>\n",
       "      <td>625.000000</td>\n",
       "      <td>42.064313</td>\n",
       "      <td>-87.549386</td>\n",
       "      <td>55.000000</td>\n",
       "      <td>625.000000</td>\n",
       "      <td>42.064313</td>\n",
       "      <td>-87.549386</td>\n",
       "      <td>55.000000</td>\n",
       "    </tr>\n",
       "  </tbody>\n",
       "</table>\n",
       "</div>"
      ],
      "text/plain": [
       "            trip_id           year          month           week  \\\n",
       "count  1.899040e+05  189904.000000  189904.000000  189904.000000   \n",
       "mean   9.861187e+06    2015.737330       7.161192      29.380655   \n",
       "std    4.680014e+06       1.075629       2.708453      11.779717   \n",
       "min    1.109555e+06    2014.000000       1.000000       1.000000   \n",
       "25%    5.941668e+06    2015.000000       5.000000      21.000000   \n",
       "50%    1.005816e+07    2016.000000       7.000000      30.000000   \n",
       "75%    1.383254e+07    2017.000000       9.000000      38.000000   \n",
       "max    1.753670e+07    2017.000000      12.000000      53.000000   \n",
       "\n",
       "                 day           hour   tripduration    temperature  \\\n",
       "count  189904.000000  189904.000000  189904.000000  189904.000000   \n",
       "mean        2.687389      13.626164      11.429583      62.999180   \n",
       "std         1.890319       4.858222       7.201778      17.200129   \n",
       "min         0.000000       0.000000       2.000000      -9.900000   \n",
       "25%         1.000000       9.000000       6.000000      52.000000   \n",
       "50%         3.000000      15.000000       9.616667      66.900000   \n",
       "75%         4.000000      17.000000      15.183333      75.900000   \n",
       "max         6.000000      23.000000      60.000000      95.000000   \n",
       "\n",
       "       from_station_id  latitude_start  longitude_start  dpcapacity_start  \\\n",
       "count    189904.000000   189904.000000    189904.000000     189904.000000   \n",
       "mean        180.196299       41.900249       -87.644710         21.370766   \n",
       "std         121.955761        0.034761         0.021745          7.640429   \n",
       "min           2.000000       41.736646       -87.802870          0.000000   \n",
       "25%          77.000000       41.881032       -87.654787         15.000000   \n",
       "50%         164.000000       41.892278       -87.641066         19.000000   \n",
       "75%         268.000000       41.920195       -87.629928         23.000000   \n",
       "max         625.000000       42.064313       -87.549386         55.000000   \n",
       "\n",
       "       to_station_id   latitude_end  longitude_end  dpcapacity_end  \n",
       "count  189904.000000  189904.000000  189904.000000   189904.000000  \n",
       "mean      180.894257      41.900749     -87.644933       21.279610  \n",
       "std       122.450730       0.035061       0.021807        7.587847  \n",
       "min         2.000000      41.736646     -87.802870        0.000000  \n",
       "25%        77.000000      41.881320     -87.655486       15.000000  \n",
       "50%       164.000000      41.893882     -87.641066       19.000000  \n",
       "75%       273.000000      41.921750     -87.630585       23.000000  \n",
       "max       625.000000      42.064313     -87.549386       55.000000  "
      ]
     },
     "execution_count": 7,
     "metadata": {},
     "output_type": "execute_result"
    }
   ],
   "source": [
    "data_df.describe()"
   ]
  },
  {
   "cell_type": "markdown",
   "metadata": {},
   "source": [
    "**Thoughts:** There are a few really interesting features contained within the dataset that I'll want to explore moving foward in this notebook. I'll break the features down sort of categorically here.\n",
    "\n",
    "**Geographical:**\n",
    " * from_station_id\n",
    " * from_station_name\n",
    " * latitude_start\n",
    " * longitude_start\n",
    " * to_station_id\n",
    " * to_station_name\n",
    " * latitude_end\n",
    " * longitude_end\n",
    " \n",
    "**Weather:**\n",
    " * temperature\n",
    " * events\n",
    " \n",
    "**Datetime:**\n",
    " * year\n",
    " * month\n",
    " * week\n",
    " * day\n",
    " * hour\n",
    " * starttime\n",
    " * stoptime\n",
    " * tripduration\n",
    " \n",
    "**User-Specific:**\n",
    " * usertype\n",
    " * gender"
   ]
  },
  {
   "cell_type": "markdown",
   "metadata": {},
   "source": [
    "## General Data Distribution"
   ]
  },
  {
   "cell_type": "code",
   "execution_count": 8,
   "metadata": {},
   "outputs": [],
   "source": [
    "temp_df = data_df.drop(\n",
    "    [\n",
    "        'trip_id', \n",
    "        'usertype',\n",
    "        'events',\n",
    "        'from_station_id',\n",
    "        'from_station_name',\n",
    "        'to_station_id',\n",
    "        'to_station_name',\n",
    "        'dpcapacity_start',\n",
    "        'dpcapacity_end'\n",
    "    ], axis=1\n",
    ")"
   ]
  },
  {
   "cell_type": "code",
   "execution_count": 9,
   "metadata": {},
   "outputs": [
    {
     "name": "stdout",
     "output_type": "stream",
     "text": [
      "Not plotting to save time\n"
     ]
    }
   ],
   "source": [
    "if n >= 1000:\n",
    "    sns.pairplot(temp_df)\n",
    "else:\n",
    "    print('Not plotting to save time')"
   ]
  },
  {
   "cell_type": "markdown",
   "metadata": {},
   "source": [
    "### Thoughts:\n",
    "* Divvy popularity grew over the course of data collection\n",
    "* People like riding bikes in the summer\n",
    "* People take bikes to and from work (9AM and 5PM)\n",
    "* People don't like to ride bikes for more than about 10 minutes\n",
    "* People like riding bikes when it's about 70 degrees out\n",
    "* People seem to ride north more than south\n",
    "* People seem to ride east more than west"
   ]
  },
  {
   "cell_type": "code",
   "execution_count": 10,
   "metadata": {},
   "outputs": [
    {
     "name": "stdout",
     "output_type": "stream",
     "text": [
      "Not plotting to save time\n"
     ]
    }
   ],
   "source": [
    "if n >= 1000:\n",
    "    g = sns.PairGrid(temp_df)\n",
    "    g.map_diag(sns.kdeplot)\n",
    "    g.map_offdiag(sns.kdeplot, n_levels=6)\n",
    "else:\n",
    "    print('Not plotting to save time')"
   ]
  },
  {
   "cell_type": "markdown",
   "metadata": {},
   "source": [
    "### Weather Analysis\n",
    "\n",
    "**Vanilla Distributions**"
   ]
  },
  {
   "cell_type": "code",
   "execution_count": 11,
   "metadata": {},
   "outputs": [
    {
     "data": {
      "text/plain": [
       "<matplotlib.axes._subplots.AxesSubplot at 0x1334c7d30>"
      ]
     },
     "execution_count": 11,
     "metadata": {},
     "output_type": "execute_result"
    },
    {
     "data": {
      "image/png": "[encoded data removed]",
      "text/plain": [
       "<Figure size 432x288 with 1 Axes>"
      ]
     },
     "metadata": {
      "needs_background": "light"
     },
     "output_type": "display_data"
    }
   ],
   "source": [
    "sns.distplot(\n",
    "    data_df.temperature\n",
    ")"
   ]
  },
  {
   "cell_type": "code",
   "execution_count": 12,
   "metadata": {},
   "outputs": [
    {
     "data": {
      "text/plain": [
       "<seaborn.axisgrid.FacetGrid at 0x13e3a1ef0>"
      ]
     },
     "execution_count": 12,
     "metadata": {},
     "output_type": "execute_result"
    },
    {
     "data": {
      "image/png": "[encoded data removed]",
      "text/plain": [
       "<Figure size 360x360 with 1 Axes>"
      ]
     },
     "metadata": {
      "needs_background": "light"
     },
     "output_type": "display_data"
    }
   ],
   "source": [
    "sns.catplot(\n",
    "    x='events',\n",
    "    data=data_df,\n",
    "    kind='count',\n",
    "    palette='ch:.25'\n",
    ")"
   ]
  },
  {
   "cell_type": "code",
   "execution_count": 13,
   "metadata": {},
   "outputs": [
    {
     "data": {
      "text/plain": [
       "<seaborn.axisgrid.FacetGrid at 0x12b505f60>"
      ]
     },
     "execution_count": 13,
     "metadata": {},
     "output_type": "execute_result"
    },
    {
     "data": {
      "image/png": "[encoded data removed]",
      "text/plain": [
       "<Figure size 360x360 with 1 Axes>"
      ]
     },
     "metadata": {
      "needs_background": "light"
     },
     "output_type": "display_data"
    }
   ],
   "source": [
    "sns.catplot(\n",
    "    x='events',\n",
    "    y='tripduration',\n",
    "    data=data_df\n",
    ")"
   ]
  },
  {
   "cell_type": "code",
   "execution_count": 14,
   "metadata": {},
   "outputs": [
    {
     "data": {
      "text/plain": [
       "<seaborn.axisgrid.JointGrid at 0x132655a90>"
      ]
     },
     "execution_count": 14,
     "metadata": {},
     "output_type": "execute_result"
    },
    {
     "data": {
      "image/png": "[encoded data removed]",
      "text/plain": [
       "<Figure size 432x432 with 3 Axes>"
      ]
     },
     "metadata": {
      "needs_background": "light"
     },
     "output_type": "display_data"
    }
   ],
   "source": [
    "sns.jointplot(\n",
    "    data_df['temperature'], \n",
    "    data_df['tripduration'],\n",
    "    kind='kde'\n",
    ")"
   ]
  },
  {
   "cell_type": "markdown",
   "metadata": {},
   "source": [
    "**Conditional Splitting**"
   ]
  },
  {
   "cell_type": "code",
   "execution_count": 66,
   "metadata": {},
   "outputs": [],
   "source": [
    "hot_rides  = data_df[data_df['temperature'] > 80]\n",
    "cold_rides = data_df[data_df['temperature'] < 10]"
   ]
  },
  {
   "cell_type": "code",
   "execution_count": 19,
   "metadata": {},
   "outputs": [
    {
     "data": {
      "text/plain": [
       "<matplotlib.axes._subplots.AxesSubplot at 0x104f38668>"
      ]
     },
     "execution_count": 19,
     "metadata": {},
     "output_type": "execute_result"
    },
    {
     "data": {
      "image/png": "[encoded data removed]",
      "text/plain": [
       "<Figure size 432x288 with 1 Axes>"
      ]
     },
     "metadata": {
      "needs_background": "light"
     },
     "output_type": "display_data"
    }
   ],
   "source": [
    "sns.distplot(\n",
    "    hot_rides.temperature,\n",
    "    hist=False\n",
    ")"
   ]
  },
  {
   "cell_type": "code",
   "execution_count": 65,
   "metadata": {},
   "outputs": [
    {
     "name": "stdout",
     "output_type": "stream",
     "text": [
      "80.1    5125\n",
      "82.0    4431\n",
      "81.0    4103\n",
      "82.9    2955\n",
      "84.0    2692\n",
      "84.9    2671\n",
      "86.0    1924\n",
      "87.1    1539\n",
      "88.0    1303\n",
      "89.1     957\n",
      "90.0     799\n",
      "91.0     457\n",
      "91.9     309\n",
      "82.4     142\n",
      "84.2     120\n",
      "80.6     120\n",
      "93.0     113\n",
      "93.9      99\n",
      "87.8      79\n",
      "95.0      22\n",
      "Name: temperature, dtype: int64\n"
     ]
    },
    {
     "data": {
      "image/png": "[encoded data removed]",
      "text/plain": [
       "<Figure size 720x720 with 1 Axes>"
      ]
     },
     "metadata": {
      "needs_background": "light"
     },
     "output_type": "display_data"
    }
   ],
   "source": [
    "fig, ax = plt.subplots(figsize=(10,10))\n",
    "sns.catplot(\n",
    "    x='temperature',\n",
    "    data=hot_rides,\n",
    "    kind='count',\n",
    "    palette='ch:.25',\n",
    "    ax=ax\n",
    ")\n",
    "print(hot_rides['temperature'].value_counts())\n",
    "plt.close(2)\n",
    "plt.show()"
   ]
  },
  {
   "cell_type": "code",
   "execution_count": 21,
   "metadata": {},
   "outputs": [
    {
     "data": {
      "text/plain": [
       "<matplotlib.axes._subplots.AxesSubplot at 0x12e2c3358>"
      ]
     },
     "execution_count": 21,
     "metadata": {},
     "output_type": "execute_result"
    },
    {
     "data": {
      "image/png": "[encoded data removed]",
      "text/plain": [
       "<Figure size 432x288 with 1 Axes>"
      ]
     },
     "metadata": {
      "needs_background": "light"
     },
     "output_type": "display_data"
    }
   ],
   "source": [
    "sns.distplot(\n",
    "    cold_rides.temperature,\n",
    ")"
   ]
  },
  {
   "cell_type": "code",
   "execution_count": 67,
   "metadata": {},
   "outputs": [
    {
     "name": "stdout",
     "output_type": "stream",
     "text": [
      " 9.0    105\n",
      " 3.9    104\n",
      " 7.0     88\n",
      " 5.0     83\n",
      " 8.1     77\n",
      " 6.1     69\n",
      " 3.0     62\n",
      " 1.9     59\n",
      "-0.0     52\n",
      " 1.0     43\n",
      "-2.0     28\n",
      "-0.9     20\n",
      "-2.9     16\n",
      "-6.0     10\n",
      " 8.6      7\n",
      "-5.1      5\n",
      "-4.0      4\n",
      " 6.8      3\n",
      "-8.0      2\n",
      "-7.1      2\n",
      "-9.9      2\n",
      " 3.2      1\n",
      "-2.2      1\n",
      "Name: temperature, dtype: int64\n"
     ]
    },
    {
     "data": {
      "image/png": "[encoded data removed]",
      "text/plain": [
       "<Figure size 1080x1080 with 1 Axes>"
      ]
     },
     "metadata": {
      "needs_background": "light"
     },
     "output_type": "display_data"
    }
   ],
   "source": [
    "fig, ax = plt.subplots(figsize=(15,15))\n",
    "sns.catplot(\n",
    "    x='temperature',\n",
    "    data=cold_rides,\n",
    "    kind='count',\n",
    "    palette='ch:.25',\n",
    "    ax=ax\n",
    ")\n",
    "print(cold_rides['temperature'].value_counts())\n",
    "plt.close(2)\n",
    "plt.show()"
   ]
  },
  {
   "cell_type": "code",
   "execution_count": null,
   "metadata": {},
   "outputs": [],
   "source": []
  }
 ],
 "metadata": {
  "kernelspec": {
   "display_name": "Python 3",
   "language": "python",
   "name": "python3"
  },
  "language_info": {
   "codemirror_mode": {
    "name": "ipython",
    "version": 3
   },
   "file_extension": ".py",
   "mimetype": "text/x-python",
   "name": "python",
   "nbconvert_exporter": "python",
   "pygments_lexer": "ipython3",
   "version": "3.6.8"
  }
 },
 "nbformat": 4,
 "nbformat_minor": 2
}
