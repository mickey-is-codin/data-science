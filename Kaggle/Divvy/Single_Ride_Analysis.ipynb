{
 "cells": [
  {
   "cell_type": "code",
   "execution_count": 1,
   "metadata": {},
   "outputs": [],
   "source": [
    "import os\n",
    "import math\n",
    "import random\n",
    "import subprocess\n",
    "\n",
    "import numpy   as np\n",
    "import pandas  as pd\n",
    "import seaborn as sns\n",
    "import matplotlib.pyplot as plt\n",
    "import dask.dataframe as dd\n",
    "\n",
    "from tqdm import tqdm\n",
    "\n",
    "from mpl_toolkits.basemap import Basemap\n",
    "\n",
    "pd.set_option('mode.chained_assignment', None)"
   ]
  },
  {
   "cell_type": "code",
   "execution_count": 2,
   "metadata": {},
   "outputs": [
    {
     "name": "stdout",
     "output_type": "stream",
     "text": [
      "Data file contains 9495237 rows\n",
      "CPU times: user 1.92 ms, sys: 7.43 ms, total: 9.35 ms\n",
      "Wall time: 2.47 s\n"
     ]
    }
   ],
   "source": [
    "%%time\n",
    "\n",
    "filename = \"data/data.csv\"\n",
    "\n",
    "def file_len(fname):\n",
    "    p = subprocess.Popen(['wc', '-l', fname], stdout=subprocess.PIPE, stderr=subprocess.PIPE)\n",
    "    result, err = p.communicate()\n",
    "    if p.returncode != 0:\n",
    "        raise IOError(err)\n",
    "    return int(result.strip().split()[0]) + 1\n",
    "\n",
    "n_rows = file_len(filename)\n",
    "print('Data file contains {} rows'.format(n_rows))"
   ]
  },
  {
   "cell_type": "code",
   "execution_count": 3,
   "metadata": {},
   "outputs": [],
   "source": [
    "traintypes = {\n",
    "    'trip_id': 'int32',\n",
    "    'year': 'uint16',\n",
    "    'month': 'uint8',\n",
    "    'week': 'uint8',\n",
    "    'day': 'uint8',\n",
    "    'hour': 'uint8',\n",
    "    'usertype': 'str',\n",
    "    'gender': 'str',\n",
    "    'starttime': 'str',\n",
    "    'stoptime': 'str',\n",
    "    'tripduration': 'float32',\n",
    "    'temperature': 'float32',\n",
    "    'events': 'str',\n",
    "    'from_station_id': 'int32',\n",
    "    'from_station_name': 'str',\n",
    "    'latitude_start': 'float32',\n",
    "    'longitude_start': 'float32',\n",
    "    'dpcapacity_start': 'float32',\n",
    "    'to_station_id': 'int32',\n",
    "    'to_station_name': 'str',\n",
    "    'latitude_end': 'float32',\n",
    "    'longitude_end': 'float32',\n",
    "    'dpcapacity_end': 'float32'\n",
    "}\n",
    "cols = list(traintypes.keys())"
   ]
  },
  {
   "cell_type": "code",
   "execution_count": 5,
   "metadata": {},
   "outputs": [],
   "source": [
    "chunksize = 1_000_000"
   ]
  },
  {
   "cell_type": "code",
   "execution_count": 6,
   "metadata": {},
   "outputs": [
    {
     "name": "stderr",
     "output_type": "stream",
     "text": [
      "10it [00:32,  3.30s/it]"
     ]
    },
    {
     "name": "stdout",
     "output_type": "stream",
     "text": [
      "CPU times: user 30.6 s, sys: 2.33 s, total: 32.9 s\n",
      "Wall time: 33 s\n"
     ]
    },
    {
     "name": "stderr",
     "output_type": "stream",
     "text": [
      "\n"
     ]
    }
   ],
   "source": [
    "%%time\n",
    "df_list = []\n",
    "\n",
    "for df_chunk in tqdm(\n",
    "    pd.read_csv(\n",
    "        filename, \n",
    "        usecols=cols, \n",
    "        dtype=traintypes, \n",
    "        chunksize=chunksize\n",
    "    )\n",
    "):\n",
    "    df_chunk['starttime'] = df_chunk['starttime'].str.slice(0, 16)\n",
    "    df_chunk['starttime'] = pd.to_datetime(df_chunk['starttime'], utc=True, format='%Y-%m-%d %H:%M')\n",
    "    \n",
    "    df_list.append(df_chunk)"
   ]
  },
  {
   "cell_type": "code",
   "execution_count": 12,
   "metadata": {},
   "outputs": [
    {
     "name": "stdout",
     "output_type": "stream",
     "text": [
      "<class 'pandas.core.frame.DataFrame'>\n",
      "RangeIndex: 5000000 entries, 0 to 4999999\n",
      "Data columns (total 23 columns):\n",
      "trip_id              int32\n",
      "year                 uint16\n",
      "month                uint8\n",
      "week                 uint8\n",
      "day                  uint8\n",
      "hour                 uint8\n",
      "usertype             object\n",
      "gender               object\n",
      "starttime            datetime64[ns, UTC]\n",
      "stoptime             object\n",
      "tripduration         float32\n",
      "temperature          float32\n",
      "events               object\n",
      "from_station_id      int32\n",
      "from_station_name    object\n",
      "latitude_start       float32\n",
      "longitude_start      float32\n",
      "dpcapacity_start     float32\n",
      "to_station_id        int32\n",
      "to_station_name      object\n",
      "latitude_end         float32\n",
      "longitude_end        float32\n",
      "dpcapacity_end       float32\n",
      "dtypes: datetime64[ns, UTC](1), float32(8), int32(3), object(6), uint16(1), uint8(4)\n",
      "memory usage: 505.4+ MB\n",
      "5000000\n"
     ]
    }
   ],
   "source": [
    "data_df = pd.concat(df_list[0:5])\n",
    "\n",
    "del df_list\n",
    "\n",
    "data_df.info()\n",
    "n_rows = data_df.shape[0]"
   ]
  },
  {
   "cell_type": "code",
   "execution_count": 17,
   "metadata": {},
   "outputs": [],
   "source": [
    "lines = False\n",
    "def show_ride(row_no):\n",
    "    \n",
    "    from_x = data_df['longitude_start']\n",
    "    from_y = data_df['latitude_start']\n",
    "    \n",
    "    to_x = data_df['longitude_end']\n",
    "    to_y = data_df['latitude_end']\n",
    "    \n",
    "    data_x = [from_x, to_x]\n",
    "    data_y = [from_y, to_y]\n",
    "            \n",
    "    ll_lon = -87.80\n",
    "    ll_lat = 41.82\n",
    "\n",
    "    ur_lon = -87.55\n",
    "    ur_lat = 42.00\n",
    "\n",
    "    plt.figure(figsize=(10,10))\n",
    "\n",
    "    chicago_map = Basemap(\n",
    "        llcrnrlon=ll_lon, llcrnrlat=ll_lat, urcrnrlon=ur_lon, urcrnrlat=ur_lat,        \n",
    "        epsg=3435\n",
    "    )\n",
    "    chicago_map.arcgisimage(service='World_Street_Map', xpixels = 5000, verbose= True)\n",
    "\n",
    "    if (lines):\n",
    "        parallels = np.arange(0.,90,0.1)\n",
    "        meridians = np.arange(10.,351.,0.1)\n",
    "        chicago_map.drawparallels(parallels,labels=[False,True,True,False], color='white', textcolor='white')\n",
    "        chicago_map.drawmeridians(meridians,labels=[True,False,False,True], color='white', textcolor='white')\n",
    "    \n",
    "    chicago_map.scatter(\n",
    "        \n",
    "        x=data_x,\n",
    "        y=data_y,\n",
    "        \n",
    "        alpha=0.2,\n",
    "        c=sizes,\n",
    "        cmap='plasma',\n",
    "        \n",
    "        s=sizes,\n",
    "        marker='.',\n",
    "        \n",
    "        latlon=True\n",
    "    )"
   ]
  },
  {
   "cell_type": "code",
   "execution_count": 18,
   "metadata": {},
   "outputs": [
    {
     "ename": "NameError",
     "evalue": "name 'Basemap' is not defined",
     "output_type": "error",
     "traceback": [
      "\u001b[0;31m---------------------------------------------------------------------------\u001b[0m",
      "\u001b[0;31mNameError\u001b[0m                                 Traceback (most recent call last)",
      "\u001b[0;32m<ipython-input-18-806c781dddda>\u001b[0m in \u001b[0;36m<module>\u001b[0;34m\u001b[0m\n\u001b[1;32m      1\u001b[0m \u001b[0mrandom_ix\u001b[0m \u001b[0;34m=\u001b[0m \u001b[0mnp\u001b[0m\u001b[0;34m.\u001b[0m\u001b[0mrandom\u001b[0m\u001b[0;34m.\u001b[0m\u001b[0mrandint\u001b[0m\u001b[0;34m(\u001b[0m\u001b[0;36m0\u001b[0m\u001b[0;34m,\u001b[0m \u001b[0mn_rows\u001b[0m\u001b[0;34m)\u001b[0m\u001b[0;34m\u001b[0m\u001b[0;34m\u001b[0m\u001b[0m\n\u001b[0;32m----> 2\u001b[0;31m \u001b[0mshow_ride\u001b[0m\u001b[0;34m(\u001b[0m\u001b[0mrandom_ix\u001b[0m\u001b[0;34m)\u001b[0m\u001b[0;34m\u001b[0m\u001b[0;34m\u001b[0m\u001b[0m\n\u001b[0m",
      "\u001b[0;32m<ipython-input-17-54b8fa7fbc65>\u001b[0m in \u001b[0;36mshow_ride\u001b[0;34m(row_no)\u001b[0m\n\u001b[1;32m     19\u001b[0m     \u001b[0mplt\u001b[0m\u001b[0;34m.\u001b[0m\u001b[0mfigure\u001b[0m\u001b[0;34m(\u001b[0m\u001b[0mfigsize\u001b[0m\u001b[0;34m=\u001b[0m\u001b[0;34m(\u001b[0m\u001b[0;36m10\u001b[0m\u001b[0;34m,\u001b[0m\u001b[0;36m10\u001b[0m\u001b[0;34m)\u001b[0m\u001b[0;34m)\u001b[0m\u001b[0;34m\u001b[0m\u001b[0;34m\u001b[0m\u001b[0m\n\u001b[1;32m     20\u001b[0m \u001b[0;34m\u001b[0m\u001b[0m\n\u001b[0;32m---> 21\u001b[0;31m     chicago_map = Basemap(\n\u001b[0m\u001b[1;32m     22\u001b[0m         \u001b[0mllcrnrlon\u001b[0m\u001b[0;34m=\u001b[0m\u001b[0mll_lon\u001b[0m\u001b[0;34m,\u001b[0m \u001b[0mllcrnrlat\u001b[0m\u001b[0;34m=\u001b[0m\u001b[0mll_lat\u001b[0m\u001b[0;34m,\u001b[0m \u001b[0murcrnrlon\u001b[0m\u001b[0;34m=\u001b[0m\u001b[0mur_lon\u001b[0m\u001b[0;34m,\u001b[0m \u001b[0murcrnrlat\u001b[0m\u001b[0;34m=\u001b[0m\u001b[0mur_lat\u001b[0m\u001b[0;34m,\u001b[0m\u001b[0;34m\u001b[0m\u001b[0;34m\u001b[0m\u001b[0m\n\u001b[1;32m     23\u001b[0m         \u001b[0mepsg\u001b[0m\u001b[0;34m=\u001b[0m\u001b[0;36m3435\u001b[0m\u001b[0;34m\u001b[0m\u001b[0;34m\u001b[0m\u001b[0m\n",
      "\u001b[0;31mNameError\u001b[0m: name 'Basemap' is not defined"
     ]
    },
    {
     "data": {
      "text/plain": [
       "<Figure size 720x720 with 0 Axes>"
      ]
     },
     "metadata": {},
     "output_type": "display_data"
    }
   ],
   "source": [
    "random_ix = np.random.randint(0, n_rows)\n",
    "show_ride(random_ix)"
   ]
  },
  {
   "cell_type": "code",
   "execution_count": null,
   "metadata": {},
   "outputs": [],
   "source": []
  }
 ],
 "metadata": {
  "kernelspec": {
   "display_name": "Python 3",
   "language": "python",
   "name": "python3"
  },
  "language_info": {
   "codemirror_mode": {
    "name": "ipython",
    "version": 3
   },
   "file_extension": ".py",
   "mimetype": "text/x-python",
   "name": "python",
   "nbconvert_exporter": "python",
   "pygments_lexer": "ipython3",
   "version": "3.6.8"
  }
 },
 "nbformat": 4,
 "nbformat_minor": 2
}
