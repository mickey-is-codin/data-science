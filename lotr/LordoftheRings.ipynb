{
 "cells": [
  {
   "cell_type": "code",
   "execution_count": 37,
   "metadata": {},
   "outputs": [],
   "source": [
    "import re\n",
    "\n",
    "import numpy as np\n",
    "import pandas as pd\n",
    "import matplotlib.pyplot as plt\n",
    "import seaborn as sns\n",
    "\n",
    "import nltk\n",
    "\n",
    "from nltk.corpus import stopwords \n",
    "from sklearn.feature_extraction.text import CountVectorizer  "
   ]
  },
  {
   "cell_type": "code",
   "execution_count": 21,
   "metadata": {},
   "outputs": [],
   "source": [
    "full_file = open('lotr.txt', 'r')\n",
    "\n",
    "file_content = full_file.read()\n",
    "file_content = file_content.lower()\n",
    "\n",
    "special_note = file_content[0:1670]\n",
    "\n",
    "unexpected_party = file_content[1670:file_content.index('book i')]\n",
    "table_of_contents = file_content[file_content.index('book i'):file_content.index('book i')+2610]\n",
    "forward = file_content[file_content.index('book i')+2610:file_content.index('* prologue *')]\n",
    "prologue = file_content[file_content.index('* prologue *'):file_content.index('chapter 1.')]\n",
    "\n",
    "three_book_text = file_content[file_content.index('chapter 1.'):]"
   ]
  },
  {
   "cell_type": "code",
   "execution_count": 22,
   "metadata": {},
   "outputs": [
    {
     "name": "stdout",
     "output_type": "stream",
     "text": [
      "There are 594,461 words in all three Lord of the Rings novels.\n"
     ]
    }
   ],
   "source": [
    "words = three_book_text.split(' ')\n",
    "word_count = len(words)\n",
    "\n",
    "print('There are '+\"{:,}\".format(word_count)+' words in all three Lord of the Rings novels.')"
   ]
  },
  {
   "cell_type": "code",
   "execution_count": 23,
   "metadata": {},
   "outputs": [
    {
     "name": "stdout",
     "output_type": "stream",
     "text": [
      "There are 3,875 sentences in all three Lord of the Rings novels.\n"
     ]
    }
   ],
   "source": [
    "sentences = re.split('.?!',three_book_text)\n",
    "sentence_count = len(sentences)\n",
    "\n",
    "print('There are '+\"{:,}\".format(sentence_count)+' sentences in all three Lord of the Rings novels.')"
   ]
  },
  {
   "cell_type": "code",
   "execution_count": 24,
   "metadata": {},
   "outputs": [
    {
     "name": "stdout",
     "output_type": "stream",
     "text": [
      "There are 62 chapters in the Lord of the Rings Novels\n"
     ]
    }
   ],
   "source": [
    "chapter_names = table_of_contents.split('chapter ')[1:]\n",
    "chapter_count = len(chapter_names)\n",
    "\n",
    "print('There are %d chapters in the Lord of the Rings Novels' % (chapter_count))"
   ]
  },
  {
   "cell_type": "code",
   "execution_count": 25,
   "metadata": {},
   "outputs": [
    {
     "name": "stdout",
     "output_type": "stream",
     "text": [
      "[715, 339, 390, 276, 1982, 1467, 601, 685, 1115]\n"
     ]
    }
   ],
   "source": [
    "fellowship_list = [\n",
    "    'aragorn',\n",
    "    'legolas',\n",
    "    'gimli',\n",
    "    'boromir',\n",
    "    'frodo',\n",
    "    'sam',\n",
    "    'merry',\n",
    "    'pippin',\n",
    "    'gandalf'\n",
    "]\n",
    "\n",
    "fellowship_occurrences = [three_book_text.count(x) for x in fellowship_list]\n",
    "\n",
    "print(fellowship_occurrences)"
   ]
  },
  {
   "cell_type": "code",
   "execution_count": 26,
   "metadata": {},
   "outputs": [
    {
     "data": {
      "text/html": [
       "<div>\n",
       "<style scoped>\n",
       "    .dataframe tbody tr th:only-of-type {\n",
       "        vertical-align: middle;\n",
       "    }\n",
       "\n",
       "    .dataframe tbody tr th {\n",
       "        vertical-align: top;\n",
       "    }\n",
       "\n",
       "    .dataframe thead th {\n",
       "        text-align: right;\n",
       "    }\n",
       "</style>\n",
       "<table border=\"1\" class=\"dataframe\">\n",
       "  <thead>\n",
       "    <tr style=\"text-align: right;\">\n",
       "      <th></th>\n",
       "      <th>names</th>\n",
       "      <th>occurrences</th>\n",
       "    </tr>\n",
       "  </thead>\n",
       "  <tbody>\n",
       "    <tr>\n",
       "      <th>0</th>\n",
       "      <td>aragorn</td>\n",
       "      <td>715</td>\n",
       "    </tr>\n",
       "    <tr>\n",
       "      <th>1</th>\n",
       "      <td>legolas</td>\n",
       "      <td>339</td>\n",
       "    </tr>\n",
       "    <tr>\n",
       "      <th>2</th>\n",
       "      <td>gimli</td>\n",
       "      <td>390</td>\n",
       "    </tr>\n",
       "    <tr>\n",
       "      <th>3</th>\n",
       "      <td>boromir</td>\n",
       "      <td>276</td>\n",
       "    </tr>\n",
       "    <tr>\n",
       "      <th>4</th>\n",
       "      <td>frodo</td>\n",
       "      <td>1982</td>\n",
       "    </tr>\n",
       "    <tr>\n",
       "      <th>5</th>\n",
       "      <td>sam</td>\n",
       "      <td>1467</td>\n",
       "    </tr>\n",
       "    <tr>\n",
       "      <th>6</th>\n",
       "      <td>merry</td>\n",
       "      <td>601</td>\n",
       "    </tr>\n",
       "    <tr>\n",
       "      <th>7</th>\n",
       "      <td>pippin</td>\n",
       "      <td>685</td>\n",
       "    </tr>\n",
       "    <tr>\n",
       "      <th>8</th>\n",
       "      <td>gandalf</td>\n",
       "      <td>1115</td>\n",
       "    </tr>\n",
       "  </tbody>\n",
       "</table>\n",
       "</div>"
      ],
      "text/plain": [
       "     names  occurrences\n",
       "0  aragorn          715\n",
       "1  legolas          339\n",
       "2    gimli          390\n",
       "3  boromir          276\n",
       "4    frodo         1982\n",
       "5      sam         1467\n",
       "6    merry          601\n",
       "7   pippin          685\n",
       "8  gandalf         1115"
      ]
     },
     "execution_count": 26,
     "metadata": {},
     "output_type": "execute_result"
    }
   ],
   "source": [
    "fellowship_df = pd.DataFrame()\n",
    "\n",
    "fellowship_df['names'] = fellowship_list\n",
    "fellowship_df['occurrences'] = fellowship_occurrences\n",
    "\n",
    "fellowship_df.head(20)"
   ]
  },
  {
   "cell_type": "code",
   "execution_count": 27,
   "metadata": {},
   "outputs": [
    {
     "data": {
      "text/plain": [
       "Text(0.5, 1.0, 'Frequency of Fellowship Character Book Appearances')"
      ]
     },
     "execution_count": 27,
     "metadata": {},
     "output_type": "execute_result"
    },
    {
     "data": {
      "image/png": "[encoded data removed]",
      "text/plain": [
       "<Figure size 720x720 with 1 Axes>"
      ]
     },
     "metadata": {
      "needs_background": "light"
     },
     "output_type": "display_data"
    }
   ],
   "source": [
    "fig, ax = plt.subplots(figsize=(10,10))\n",
    "\n",
    "sns.barplot(x=fellowship_df['names'],y=fellowship_df['occurrences']).set_title('Frequency of Fellowship Character Book Appearances')"
   ]
  },
  {
   "cell_type": "code",
   "execution_count": 29,
   "metadata": {},
   "outputs": [
    {
     "name": "stdout",
     "output_type": "stream",
     "text": [
      "Input the custom word that you would like to explore from Lord of the Rings: man\n",
      "\n",
      "The word man appeared 1791 times in all 3 Lord of the Rings books.\n"
     ]
    }
   ],
   "source": [
    "user_word = input('Input the custom word that you would like to explore from Lord of the Rings: ')\n",
    "user_word = user_word.lower()\n",
    "\n",
    "user_word_count = three_book_text.count(user_word)\n",
    "\n",
    "print('\\nThe word %s appeared %d times in all 3 Lord of the Rings books.' % (user_word, user_word_count))"
   ]
  },
  {
   "cell_type": "code",
   "execution_count": 34,
   "metadata": {},
   "outputs": [],
   "source": [
    "book_one = three_book_text[three_book_text.index('book i'):three_book_text.index('book ii')]\n",
    "\n",
    "book_two = three_book_text[three_book_text.index('book ii'):three_book_text.index('book iii')]\n",
    "\n",
    "book_three = three_book_text[three_book_text.index('book iii'):three_book_text.index('book iv')]\n",
    "\n",
    "book_four = three_book_text[three_book_text.index('book iv'):three_book_text.index('book v')]\n",
    "\n",
    "book_five = three_book_text[three_book_text.index('book v'):three_book_text.index('book vi')]\n",
    "\n",
    "book_six = three_book_text[three_book_text.index('book vi'):]\n",
    "\n",
    "full_series_books = [\n",
    "    book_one,\n",
    "    book_two,\n",
    "    book_three,\n",
    "    book_four,\n",
    "    book_five,\n",
    "    book_six\n",
    "]"
   ]
  },
  {
   "cell_type": "code",
   "execution_count": null,
   "metadata": {},
   "outputs": [],
   "source": [
    "book_df = "
   ]
  }
 ],
 "metadata": {
  "kernelspec": {
   "display_name": "DataScience",
   "language": "python",
   "name": "datascience"
  },
  "language_info": {
   "codemirror_mode": {
    "name": "ipython",
    "version": 3
   },
   "file_extension": ".py",
   "mimetype": "text/x-python",
   "name": "python",
   "nbconvert_exporter": "python",
   "pygments_lexer": "ipython3",
   "version": "3.7.1"
  }
 },
 "nbformat": 4,
 "nbformat_minor": 2
}
